{
 "cells": [
  {
   "cell_type": "code",
   "execution_count": 1,
   "id": "0c5b9ead",
   "metadata": {},
   "outputs": [],
   "source": [
    "from utils_updated import *\n",
    "from EFGPlusPlus import *\n",
    "from TpMaxSimulator import TpMaxSimulator"
   ]
  },
  {
   "cell_type": "raw",
   "id": "b676519e",
   "metadata": {},
   "source": [
    "The TpMaxGenerator function in utils.py is slightly changed during the review process.\n",
    "The change does not impact the main conclusions.\n",
    "To produce exactly the same results, we create a utils_updated.py.\n",
    "\n",
    "WARNING: Due to MAC OS's security check on external software, the first time you use TpMaxSimulator you need to allow external software permission in Settings - Privacy and Security."
   ]
  },
  {
   "cell_type": "raw",
   "id": "55abd2f0",
   "metadata": {},
   "source": [
    "TpMaxSimulator is a C lib, which is used as a Python extension module. \n",
    "The Python codes are translated from a Java version (at https://github.com/biazhong/FBKT/blob/778fb1ab999de22ab85ee3d3ae1d3c9f3a1d52fc/FBKTSpark/src/main/java/problems/TpMax.java).\n",
    "\n",
    "To speed up the simulation, we use Cython to compile it into C lib. The setup.py is used for this. See https://cython.readthedocs.io/en/latest/src/quickstart/build.html (Building a Cython module using setup tools) for guidance on how to build the .pyx file into a Python extension module. \n",
    "\n",
    "The .so files are the produced modules for different Python versions on MAC OS. The .pyd, .lib, and .exp files are the produced modules on Windows. We include the files for Python 3.8 and 3.9. If your Python version is not covered, please compile the .pyx file."
   ]
  },
  {
   "cell_type": "raw",
   "id": "3d772026",
   "metadata": {},
   "source": [
    "In the previous experiments, only the experiments are parallelized. The procedures used are not parallelized.  This notebook, and the Table_EC5.ipynb, tests the performance and parallel efficency of the parallel EFGPlusPlus procedure.\n",
    "\n",
    "The implementation of the EFG++ procedure utilizes the Python library multipleprocessing in a master-worker structure. "
   ]
  },
  {
   "cell_type": "raw",
   "id": "3a7cb26e",
   "metadata": {},
   "source": [
    "WARNING: The experiments included are conducted on a lab server with more than 50 CPU cores (supporting more than 100 concurrent computing threads) and 512 GB memory.  When using multipleprocessing, a maximum of 40 threads (depending on the setting parameter q) will be used by the EFGPlusPlus procedure. Please run the experiments of this notebook in a computer with AT LEAST 20 CPU cores."
   ]
  },
  {
   "cell_type": "raw",
   "id": "bc295d9d",
   "metadata": {},
   "source": [
    "Recall that the problem type parameters decide the value of k:\n",
    "(20, 20): k = 3249\n",
    "(30, 30): k = 11774\n",
    "(45, 30): k = 27434\n",
    "(45, 45): k = 41624"
   ]
  },
  {
   "cell_type": "raw",
   "id": "0beea952",
   "metadata": {},
   "source": [
    "The experiment results are recorded in Table EC1 - EC4.\n",
    "\n",
    "The key parameters of these experiments are:\n",
    "1. the problem type parameter like (30, 30);\n",
    "2. the number of worker processors q used by the procedure;\n",
    "3. the n-processor mini-batch size z used in the greedy phase of the procedure;\n",
    "4. Is_asyn, the flag for deciding whether the greedy phase is synchronized or asynchronized. \n",
    "\n",
    "Given a set of parameters, we conduct the experiment and are concerned about the following outputs\n",
    "1. The PCS and the PGS \n",
    "2. The total (wall-clock) time\n",
    "3. The (wall-clock) time of each stage (i.e., phase): the seeding exploration, and greedy phases\n",
    "4. the total simulation time and the simulation time of each stage (i.e., phase)\n",
    "5. the total utilization (computed based on total (wall-clock) time and total simulation time)\n",
    "6. the utilization of each stage (computed based on each stage's (wall-clock) time and simulation time)\n",
    "\n",
    "\n",
    "To correspond the results to Table EC1-EC4, notice the format of the output like the following:\n",
    "\n",
    "##### Utilization ratios for the stages: 99.82%, 99.94%, 48.99% #####\n",
    "##### Procedure utilization: 83.85% #####\n",
    "******* PCS: 0.42, PGS: 0.94 *******\n",
    "seeding time: 16.799 ± 0.050\n",
    "exploration time: 56.840 ± 0.148\n",
    "greedy time: 33.933 ± 0.297\n",
    "simulation time in seeding: 16.769 ± 0.050\n",
    "simulation time in exploration: 56.808 ± 0.148\n",
    "simulation time in greedy: 16.624 ± 0.912\n",
    "total time: 107.572 ± 0.477\n",
    "total simulation time: 90.202 ± 1.080"
   ]
  },
  {
   "cell_type": "raw",
   "id": "06626a9e",
   "metadata": {},
   "source": [
    "MUST-READ NOTICE 1: even under the same random number seed, the time outputs will NOT be exactly the same because they depend on the system being used and the system status. Consequently, the utilization outputs will NOT be the same. \n",
    "\n",
    "MUST-READ NOTICE 2: even under the same random number seed, when is_asyn=True, the estimated PCS and PGS will NOT be the same. This is because, the results depend on the ordering of the internal computing tasks; with asynchronization, the ordering depends on the system status and can not be fixed. "
   ]
  },
  {
   "cell_type": "raw",
   "id": "26e7d107",
   "metadata": {},
   "source": [
    "The first experiment (q=1) takes 9 hours in total :)"
   ]
  },
  {
   "cell_type": "code",
   "execution_count": 2,
   "id": "6f7d4333",
   "metadata": {},
   "outputs": [],
   "source": [
    "seed = 2023080301\n",
    "n_reps = 300\n",
    "G = 11\n",
    "n = 100\n",
    "\n",
    "# the number of worker processors q\n",
    "core_confs = [1]\n",
    "# the n-processor mini-batch size z\n",
    "batch_sizes = [1]\n",
    "# the problem type\n",
    "problem_type = (30, 30)\n",
    "\n",
    "nsd = int(n*0.2)\n",
    "ng = int(n*0.1)\n",
    "n0 = n-nsd-ng"
   ]
  },
  {
   "cell_type": "raw",
   "id": "df504882",
   "metadata": {},
   "source": [
    "Running one replication takes about 2 minutes. Please wait. "
   ]
  },
  {
   "cell_type": "code",
   "execution_count": 3,
   "id": "fd58b06b",
   "metadata": {},
   "outputs": [
    {
     "name": "stdout",
     "output_type": "stream",
     "text": [
      "\n",
      " problem size: 11774, problem type: (30, 30), n: 100 \n",
      "\n",
      "\n",
      " ########### 1 cores, with batch size 1 ######## \n",
      "\n",
      "\n",
      "Total number of alternatives - 11774\n",
      "Seeding/Exploration/Greedy budget - B=20k, B=70k, B=10k\n",
      "Number of groups for seeding - 11\n",
      "Number of processors used - 1\n",
      "Greedy batch size in each processor - 1\n",
      "Total replications to conduct - 300\n",
      "Asyn version? False\n",
      "Initializing 1 processors...\n",
      "Initializing the processors takes 0.898s\n"
     ]
    },
    {
     "name": "stderr",
     "output_type": "stream",
     "text": [
      "100%|█████████████████████████████████████████████████████████████████████████████| 300/300 [8:57:59<00:00, 107.60s/it]"
     ]
    },
    {
     "name": "stdout",
     "output_type": "stream",
     "text": [
      "##### Utilization ratios for the stages: 99.82%, 99.94%, 48.99% #####\n",
      "##### Procedure utilization: 83.85% #####\n",
      "******* PCS: 0.42, PGS: 0.94 *******\n",
      "seeding time: 16.799 ± 0.050\n",
      "exploration time: 56.840 ± 0.148\n",
      "greedy time: 33.933 ± 0.297\n",
      "simulation time in seeding: 16.769 ± 0.050\n",
      "simulation time in exploration: 56.808 ± 0.148\n",
      "simulation time in greedy: 16.624 ± 0.912\n",
      "total time: 107.572 ± 0.477\n",
      "total simulation time: 90.202 ± 1.080\n"
     ]
    },
    {
     "name": "stderr",
     "output_type": "stream",
     "text": [
      "\n"
     ]
    }
   ],
   "source": [
    "rng = np.random.default_rng(seed+problem_type[0]+problem_type[1]+n)\n",
    "slns, means = loadTPMax(problem_type[0], problem_type[1])\n",
    "print(\"\\n problem size: {}, problem type: {}, n: {} \\n\".format(len(slns), problem_type, n))\n",
    "_njobs, _nstages, _burnin = 1050, 3, 1000\n",
    "generator = TpMaxGenerator(_njobs, _nstages, _burnin, slns, means, TpMaxSimulator)\n",
    "k = generator.syscount()\n",
    "\n",
    "for num_cores in core_confs:\n",
    "    for batch_size in batch_sizes:\n",
    "        print(\"\\n ########### {} cores, with batch size {} ######## \\n\".format(num_cores, batch_size))\n",
    "        _seed = rng.integers(1, 10e8)\n",
    "        is_asyn = False\n",
    "        results, phasetimeset, simutimeset = EFGPlusPlus(generator, nsd, n0, ng, G, num_cores, \n",
    "                                                              batch_size, n_reps, _seed, is_asyn)\n",
    "        process_result(generator, num_cores, results, phasetimeset, simutimeset)"
   ]
  },
  {
   "cell_type": "code",
   "execution_count": null,
   "id": "f255e95f",
   "metadata": {},
   "outputs": [],
   "source": []
  },
  {
   "cell_type": "code",
   "execution_count": 4,
   "id": "a37ca70a",
   "metadata": {},
   "outputs": [],
   "source": [
    "seed = 2023080302\n",
    "n_reps = 300\n",
    "G = 11\n",
    "n = 100\n",
    "\n",
    "# number of parallel threads for the EFGPlusPlus procedure\n",
    "core_confs = [5, 10, 20, 40]\n",
    "batch_sizes = [1, 10, 20]\n",
    "problem_type = (30, 30)\n",
    "\n",
    "nsd = int(n*0.2)\n",
    "ng = int(n*0.1)\n",
    "n0 = n-nsd-ng"
   ]
  },
  {
   "cell_type": "code",
   "execution_count": 5,
   "id": "4ab77008",
   "metadata": {
    "scrolled": false
   },
   "outputs": [
    {
     "name": "stdout",
     "output_type": "stream",
     "text": [
      "\n",
      " problem size: 11774, problem type: (30, 30), n: 100 \n",
      "\n",
      "\n",
      " ########### 5 cores, with batch size 1 ######## \n",
      "\n",
      "\n",
      "Total number of alternatives - 11774\n",
      "Seeding/Exploration/Greedy budget - B=20k, B=70k, B=10k\n",
      "Number of groups for seeding - 11\n",
      "Number of processors used - 5\n",
      "Greedy batch size in each processor - 1\n",
      "Total replications to conduct - 300\n",
      "Asyn version? False\n",
      "Initializing 5 processors...\n",
      "Initializing the processors takes 4.497s\n"
     ]
    },
    {
     "name": "stderr",
     "output_type": "stream",
     "text": [
      "100%|██████████████████████████████████████████████████████████████████████████████| 300/300 [2:16:52<00:00, 27.37s/it]\n"
     ]
    },
    {
     "name": "stdout",
     "output_type": "stream",
     "text": [
      "##### Utilization ratios for the stages: 98.83%, 97.76%, 23.81% #####\n",
      "##### Procedure utilization: 65.19% #####\n",
      "******* PCS: 0.44, PGS: 0.9633333333333334 *******\n",
      "seeding time: 3.442 ± 0.005\n",
      "exploration time: 11.812 ± 0.014\n",
      "greedy time: 12.092 ± 0.013\n",
      "simulation time in seeding: 17.006 ± 0.022\n",
      "simulation time in exploration: 57.740 ± 0.036\n",
      "simulation time in greedy: 14.394 ± 0.025\n",
      "total time: 27.346 ± 0.024\n",
      "total simulation time: 89.140 ± 0.062\n",
      "\n",
      " ########### 5 cores, with batch size 10 ######## \n",
      "\n",
      "\n",
      "Total number of alternatives - 11774\n",
      "Seeding/Exploration/Greedy budget - B=20k, B=70k, B=10k\n",
      "Number of groups for seeding - 11\n",
      "Number of processors used - 5\n",
      "Greedy batch size in each processor - 10\n",
      "Total replications to conduct - 300\n",
      "Asyn version? False\n",
      "Initializing 5 processors...\n",
      "Initializing the processors takes 4.729s\n"
     ]
    },
    {
     "name": "stderr",
     "output_type": "stream",
     "text": [
      "100%|██████████████████████████████████████████████████████████████████████████████| 300/300 [1:31:52<00:00, 18.37s/it]\n"
     ]
    },
    {
     "name": "stdout",
     "output_type": "stream",
     "text": [
      "##### Utilization ratios for the stages: 98.93%, 97.35%, 67.89% #####\n",
      "##### Procedure utilization: 92.72% #####\n",
      "******* PCS: 0.37, PGS: 0.9466666666666667 *******\n",
      "seeding time: 3.431 ± 0.002\n",
      "exploration time: 11.851 ± 0.010\n",
      "greedy time: 3.063 ± 0.003\n",
      "simulation time in seeding: 16.972 ± 0.008\n",
      "simulation time in exploration: 57.682 ± 0.026\n",
      "simulation time in greedy: 10.399 ± 0.017\n",
      "total time: 18.345 ± 0.012\n",
      "total simulation time: 85.053 ± 0.046\n",
      "\n",
      " ########### 5 cores, with batch size 20 ######## \n",
      "\n",
      "\n",
      "Total number of alternatives - 11774\n",
      "Seeding/Exploration/Greedy budget - B=20k, B=70k, B=10k\n",
      "Number of groups for seeding - 11\n",
      "Number of processors used - 5\n",
      "Greedy batch size in each processor - 20\n",
      "Total replications to conduct - 300\n",
      "Asyn version? False\n",
      "Initializing 5 processors...\n",
      "Initializing the processors takes 4.726s\n"
     ]
    },
    {
     "name": "stderr",
     "output_type": "stream",
     "text": [
      "100%|██████████████████████████████████████████████████████████████████████████████| 300/300 [1:28:57<00:00, 17.79s/it]\n"
     ]
    },
    {
     "name": "stdout",
     "output_type": "stream",
     "text": [
      "##### Utilization ratios for the stages: 97.84%, 98.54%, 78.00% #####\n",
      "##### Procedure utilization: 95.44% #####\n",
      "******* PCS: 0.45666666666666667, PGS: 0.96 *******\n",
      "seeding time: 3.475 ± 0.003\n",
      "exploration time: 11.726 ± 0.003\n",
      "greedy time: 2.561 ± 0.001\n",
      "simulation time in seeding: 16.998 ± 0.006\n",
      "simulation time in exploration: 57.774 ± 0.018\n",
      "simulation time in greedy: 9.988 ± 0.004\n",
      "total time: 17.761 ± 0.006\n",
      "total simulation time: 84.759 ± 0.024\n",
      "\n",
      " ########### 10 cores, with batch size 1 ######## \n",
      "\n",
      "\n",
      "Total number of alternatives - 11774\n",
      "Seeding/Exploration/Greedy budget - B=20k, B=70k, B=10k\n",
      "Number of groups for seeding - 11\n",
      "Number of processors used - 10\n",
      "Greedy batch size in each processor - 1\n",
      "Total replications to conduct - 300\n",
      "Asyn version? False\n",
      "Initializing 10 processors...\n",
      "Initializing the processors takes 9.388s\n"
     ]
    },
    {
     "name": "stderr",
     "output_type": "stream",
     "text": [
      "100%|██████████████████████████████████████████████████████████████████████████████| 300/300 [1:35:26<00:00, 19.09s/it]\n"
     ]
    },
    {
     "name": "stdout",
     "output_type": "stream",
     "text": [
      "##### Utilization ratios for the stages: 96.57%, 97.02%, 11.57% #####\n",
      "##### Procedure utilization: 46.13% #####\n",
      "******* PCS: 0.45666666666666667, PGS: 0.9633333333333334 *******\n",
      "seeding time: 1.762 ± 0.002\n",
      "exploration time: 5.957 ± 0.005\n",
      "greedy time: 11.341 ± 0.013\n",
      "simulation time in seeding: 17.011 ± 0.008\n",
      "simulation time in exploration: 57.798 ± 0.021\n",
      "simulation time in greedy: 13.116 ± 0.029\n",
      "total time: 19.059 ± 0.016\n",
      "total simulation time: 87.924 ± 0.047\n",
      "\n",
      " ########### 10 cores, with batch size 10 ######## \n",
      "\n",
      "\n",
      "Total number of alternatives - 11774\n",
      "Seeding/Exploration/Greedy budget - B=20k, B=70k, B=10k\n",
      "Number of groups for seeding - 11\n",
      "Number of processors used - 10\n",
      "Greedy batch size in each processor - 10\n",
      "Total replications to conduct - 300\n",
      "Asyn version? False\n",
      "Initializing 10 processors...\n",
      "Initializing the processors takes 9.397s\n"
     ]
    },
    {
     "name": "stderr",
     "output_type": "stream",
     "text": [
      "100%|████████████████████████████████████████████████████████████████████████████████| 300/300 [49:13<00:00,  9.85s/it]\n"
     ]
    },
    {
     "name": "stdout",
     "output_type": "stream",
     "text": [
      "##### Utilization ratios for the stages: 95.71%, 94.22%, 55.28% #####\n",
      "##### Procedure utilization: 87.05% #####\n",
      "******* PCS: 0.45666666666666667, PGS: 0.9433333333333334 *******\n",
      "seeding time: 1.783 ± 0.001\n",
      "exploration time: 6.156 ± 0.002\n",
      "greedy time: 1.877 ± 0.001\n",
      "simulation time in seeding: 17.068 ± 0.004\n",
      "simulation time in exploration: 58.006 ± 0.010\n",
      "simulation time in greedy: 10.376 ± 0.006\n",
      "total time: 9.816 ± 0.003\n",
      "total simulation time: 85.450 ± 0.013\n",
      "\n",
      " ########### 10 cores, with batch size 20 ######## \n",
      "\n",
      "\n",
      "Total number of alternatives - 11774\n",
      "Seeding/Exploration/Greedy budget - B=20k, B=70k, B=10k\n",
      "Number of groups for seeding - 11\n",
      "Number of processors used - 10\n",
      "Greedy batch size in each processor - 20\n",
      "Total replications to conduct - 300\n",
      "Asyn version? False\n",
      "Initializing 10 processors...\n",
      "Initializing the processors takes 9.519s\n"
     ]
    },
    {
     "name": "stderr",
     "output_type": "stream",
     "text": [
      "100%|████████████████████████████████████████████████████████████████████████████████| 300/300 [48:24<00:00,  9.68s/it]\n"
     ]
    },
    {
     "name": "stdout",
     "output_type": "stream",
     "text": [
      "##### Utilization ratios for the stages: 90.70%, 92.04%, 70.85% #####\n",
      "##### Procedure utilization: 88.67% #####\n",
      "******* PCS: 0.4266666666666667, PGS: 0.9366666666666666 *******\n",
      "seeding time: 1.895 ± 0.001\n",
      "exploration time: 6.344 ± 0.002\n",
      "greedy time: 1.413 ± 0.001\n",
      "simulation time in seeding: 17.189 ± 0.007\n",
      "simulation time in exploration: 58.390 ± 0.025\n",
      "simulation time in greedy: 10.009 ± 0.009\n",
      "total time: 9.652 ± 0.004\n",
      "total simulation time: 85.587 ± 0.039\n",
      "\n",
      " ########### 20 cores, with batch size 1 ######## \n",
      "\n",
      "\n",
      "Total number of alternatives - 11774\n",
      "Seeding/Exploration/Greedy budget - B=20k, B=70k, B=10k\n",
      "Number of groups for seeding - 11\n",
      "Number of processors used - 20\n",
      "Greedy batch size in each processor - 1\n",
      "Total replications to conduct - 300\n",
      "Asyn version? False\n",
      "Initializing 20 processors...\n",
      "Initializing the processors takes 18.953s\n"
     ]
    },
    {
     "name": "stderr",
     "output_type": "stream",
     "text": [
      "100%|██████████████████████████████████████████████████████████████████████████████| 300/300 [1:16:42<00:00, 15.34s/it]\n"
     ]
    },
    {
     "name": "stdout",
     "output_type": "stream",
     "text": [
      "##### Utilization ratios for the stages: 94.95%, 96.35%, 5.86% #####\n",
      "##### Procedure utilization: 28.78% #####\n",
      "******* PCS: 0.39666666666666667, PGS: 0.95 *******\n",
      "seeding time: 0.894 ± 0.001\n",
      "exploration time: 2.997 ± 0.002\n",
      "greedy time: 11.415 ± 0.005\n",
      "simulation time in seeding: 16.977 ± 0.005\n",
      "simulation time in exploration: 57.749 ± 0.007\n",
      "simulation time in greedy: 13.384 ± 0.016\n",
      "total time: 15.306 ± 0.005\n",
      "total simulation time: 88.110 ± 0.019\n",
      "\n",
      " ########### 20 cores, with batch size 10 ######## \n",
      "\n",
      "\n",
      "Total number of alternatives - 11774\n",
      "Seeding/Exploration/Greedy budget - B=20k, B=70k, B=10k\n",
      "Number of groups for seeding - 11\n",
      "Number of processors used - 20\n",
      "Greedy batch size in each processor - 10\n",
      "Total replications to conduct - 300\n",
      "Asyn version? False\n",
      "Initializing 20 processors...\n",
      "Initializing the processors takes 18.868s\n"
     ]
    },
    {
     "name": "stderr",
     "output_type": "stream",
     "text": [
      "100%|████████████████████████████████████████████████████████████████████████████████| 300/300 [27:17<00:00,  5.46s/it]\n"
     ]
    },
    {
     "name": "stdout",
     "output_type": "stream",
     "text": [
      "##### Utilization ratios for the stages: 88.94%, 92.19%, 39.01% #####\n",
      "##### Procedure utilization: 78.72% #####\n",
      "******* PCS: 0.4766666666666667, PGS: 0.9366666666666666 *******\n",
      "seeding time: 0.961 ± 0.001\n",
      "exploration time: 3.148 ± 0.002\n",
      "greedy time: 1.315 ± 0.001\n",
      "simulation time in seeding: 17.089 ± 0.007\n",
      "simulation time in exploration: 58.032 ± 0.010\n",
      "simulation time in greedy: 10.263 ± 0.004\n",
      "total time: 5.423 ± 0.002\n",
      "total simulation time: 85.383 ± 0.013\n",
      "\n",
      " ########### 20 cores, with batch size 20 ######## \n",
      "\n",
      "\n",
      "Total number of alternatives - 11774\n",
      "Seeding/Exploration/Greedy budget - B=20k, B=70k, B=10k\n",
      "Number of groups for seeding - 11\n",
      "Number of processors used - 20\n",
      "Greedy batch size in each processor - 20\n",
      "Total replications to conduct - 300\n",
      "Asyn version? False\n",
      "Initializing 20 processors...\n",
      "Initializing the processors takes 19.046s\n"
     ]
    },
    {
     "name": "stderr",
     "output_type": "stream",
     "text": [
      "100%|████████████████████████████████████████████████████████████████████████████████| 300/300 [24:07<00:00,  4.83s/it]\n"
     ]
    },
    {
     "name": "stdout",
     "output_type": "stream",
     "text": [
      "##### Utilization ratios for the stages: 94.82%, 96.28%, 55.37% #####\n",
      "##### Procedure utilization: 88.33% #####\n",
      "******* PCS: 0.49333333333333335, PGS: 0.97 *******\n",
      "seeding time: 0.895 ± 0.002\n",
      "exploration time: 2.998 ± 0.003\n",
      "greedy time: 0.899 ± 0.002\n",
      "simulation time in seeding: 16.976 ± 0.009\n",
      "simulation time in exploration: 57.728 ± 0.032\n",
      "simulation time in greedy: 9.953 ± 0.010\n",
      "total time: 4.792 ± 0.005\n",
      "total simulation time: 84.657 ± 0.041\n",
      "\n",
      " ########### 40 cores, with batch size 1 ######## \n",
      "\n",
      "\n",
      "Total number of alternatives - 11774\n",
      "Seeding/Exploration/Greedy budget - B=20k, B=70k, B=10k\n",
      "Number of groups for seeding - 11\n",
      "Number of processors used - 40\n",
      "Greedy batch size in each processor - 1\n",
      "Total replications to conduct - 300\n",
      "Asyn version? False\n",
      "Initializing 40 processors...\n",
      "Initializing the processors takes 37.952s\n"
     ]
    },
    {
     "name": "stderr",
     "output_type": "stream",
     "text": [
      "100%|██████████████████████████████████████████████████████████████████████████████| 300/300 [1:05:52<00:00, 13.17s/it]\n"
     ]
    },
    {
     "name": "stdout",
     "output_type": "stream",
     "text": [
      "##### Utilization ratios for the stages: 85.97%, 92.65%, 2.99% #####\n",
      "##### Procedure utilization: 16.68% #####\n",
      "******* PCS: 0.4666666666666667, PGS: 0.9233333333333333 *******\n",
      "seeding time: 0.492 ± 0.002\n",
      "exploration time: 1.551 ± 0.003\n",
      "greedy time: 11.089 ± 0.002\n",
      "simulation time in seeding: 16.921 ± 0.006\n",
      "simulation time in exploration: 57.474 ± 0.011\n",
      "simulation time in greedy: 13.249 ± 0.007\n",
      "total time: 13.132 ± 0.005\n",
      "total simulation time: 87.644 ± 0.014\n",
      "\n",
      " ########### 40 cores, with batch size 10 ######## \n",
      "\n",
      "\n",
      "Total number of alternatives - 11774\n",
      "Seeding/Exploration/Greedy budget - B=20k, B=70k, B=10k\n",
      "Number of groups for seeding - 11\n",
      "Number of processors used - 40\n",
      "Greedy batch size in each processor - 10\n",
      "Total replications to conduct - 300\n",
      "Asyn version? False\n",
      "Initializing 40 processors...\n",
      "Initializing the processors takes 37.810s\n"
     ]
    },
    {
     "name": "stderr",
     "output_type": "stream",
     "text": [
      "100%|████████████████████████████████████████████████████████████████████████████████| 300/300 [16:04<00:00,  3.21s/it]\n"
     ]
    },
    {
     "name": "stdout",
     "output_type": "stream",
     "text": [
      "##### Utilization ratios for the stages: 87.38%, 92.29%, 22.42% #####\n",
      "##### Procedure utilization: 66.65% #####\n",
      "******* PCS: 0.4633333333333333, PGS: 0.95 *******\n",
      "seeding time: 0.485 ± 0.001\n",
      "exploration time: 1.558 ± 0.002\n",
      "greedy time: 1.131 ± 0.000\n",
      "simulation time in seeding: 16.944 ± 0.004\n",
      "simulation time in exploration: 57.531 ± 0.009\n",
      "simulation time in greedy: 10.139 ± 0.008\n",
      "total time: 3.174 ± 0.003\n",
      "total simulation time: 84.614 ± 0.013\n",
      "\n",
      " ########### 40 cores, with batch size 20 ######## \n",
      "\n",
      "\n",
      "Total number of alternatives - 11774\n",
      "Seeding/Exploration/Greedy budget - B=20k, B=70k, B=10k\n",
      "Number of groups for seeding - 11\n",
      "Number of processors used - 40\n",
      "Greedy batch size in each processor - 20\n",
      "Total replications to conduct - 300\n",
      "Asyn version? False\n",
      "Initializing 40 processors...\n",
      "Initializing the processors takes 37.686s\n"
     ]
    },
    {
     "name": "stderr",
     "output_type": "stream",
     "text": [
      "100%|████████████████████████████████████████████████████████████████████████████████| 300/300 [13:42<00:00,  2.74s/it]\n"
     ]
    },
    {
     "name": "stdout",
     "output_type": "stream",
     "text": [
      "##### Utilization ratios for the stages: 86.42%, 91.89%, 38.46% #####\n",
      "##### Procedure utilization: 78.10% #####\n",
      "******* PCS: 0.45666666666666667, PGS: 0.9433333333333334 *******\n",
      "seeding time: 0.490 ± 0.001\n",
      "exploration time: 1.564 ± 0.003\n",
      "greedy time: 0.647 ± 0.000\n",
      "simulation time in seeding: 16.932 ± 0.005\n",
      "simulation time in exploration: 57.502 ± 0.012\n",
      "simulation time in greedy: 9.953 ± 0.011\n",
      "total time: 2.701 ± 0.003\n",
      "total simulation time: 84.387 ± 0.018\n"
     ]
    }
   ],
   "source": [
    "rng = np.random.default_rng(seed+problem_type[0]+problem_type[1]+n)\n",
    "slns, means = loadTPMax(problem_type[0], problem_type[1])\n",
    "print(\"\\n problem size: {}, problem type: {}, n: {} \\n\".format(len(slns), problem_type, n))\n",
    "_njobs, _nstages, _burnin = 1050, 3, 1000\n",
    "generator = TpMaxGenerator(_njobs, _nstages, _burnin, slns, means, TpMaxSimulator)\n",
    "k = generator.syscount()\n",
    "\n",
    "for num_cores in core_confs:\n",
    "    for batch_size in batch_sizes:\n",
    "        print(\"\\n ########### {} cores, with batch size {} ######## \\n\".format(num_cores, batch_size))\n",
    "        _seed = rng.integers(1, 10e8)\n",
    "        is_asyn = False\n",
    "        results, phasetimeset, simutimeset = EFGPlusPlus(generator, nsd, n0, ng, G, num_cores, \n",
    "                                                              batch_size, n_reps, _seed, is_asyn)\n",
    "        process_result(generator, num_cores, results, phasetimeset, simutimeset)"
   ]
  },
  {
   "cell_type": "code",
   "execution_count": 6,
   "id": "28279012",
   "metadata": {
    "scrolled": false
   },
   "outputs": [
    {
     "name": "stdout",
     "output_type": "stream",
     "text": [
      "\n",
      " ########### 5 cores, with batch size 1 ######## \n",
      "\n",
      "\n",
      "Total number of alternatives - 11774\n",
      "Seeding/Exploration/Greedy budget - B=20k, B=70k, B=10k\n",
      "Number of groups for seeding - 11\n",
      "Number of processors used - 5\n",
      "Greedy batch size in each processor - 1\n",
      "Total replications to conduct - 300\n",
      "Asyn version? True\n",
      "Initializing 5 processors...\n",
      "Initializing the processors takes 4.674s\n"
     ]
    },
    {
     "name": "stderr",
     "output_type": "stream",
     "text": [
      "100%|██████████████████████████████████████████████████████████████████████████████| 300/300 [2:29:38<00:00, 29.93s/it]\n"
     ]
    },
    {
     "name": "stdout",
     "output_type": "stream",
     "text": [
      "##### Utilization ratios for the stages: 98.69%, 98.27%, 18.53% #####\n",
      "##### Procedure utilization: 59.05% #####\n",
      "******* PCS: 0.45666666666666667, PGS: 0.9466666666666667 *******\n",
      "seeding time: 3.440 ± 0.001\n",
      "exploration time: 11.736 ± 0.002\n",
      "greedy time: 14.724 ± 0.016\n",
      "simulation time in seeding: 16.976 ± 0.004\n",
      "simulation time in exploration: 57.662 ± 0.011\n",
      "simulation time in greedy: 13.645 ± 0.019\n",
      "total time: 29.900 ± 0.018\n",
      "total simulation time: 88.282 ± 0.030\n",
      "\n",
      " ########### 5 cores, with batch size 10 ######## \n",
      "\n",
      "\n",
      "Total number of alternatives - 11774\n",
      "Seeding/Exploration/Greedy budget - B=20k, B=70k, B=10k\n",
      "Number of groups for seeding - 11\n",
      "Number of processors used - 5\n",
      "Greedy batch size in each processor - 10\n",
      "Total replications to conduct - 300\n",
      "Asyn version? True\n",
      "Initializing 5 processors...\n",
      "Initializing the processors takes 4.849s\n"
     ]
    },
    {
     "name": "stderr",
     "output_type": "stream",
     "text": [
      "100%|██████████████████████████████████████████████████████████████████████████████| 300/300 [1:27:37<00:00, 17.53s/it]\n"
     ]
    },
    {
     "name": "stdout",
     "output_type": "stream",
     "text": [
      "##### Utilization ratios for the stages: 96.24%, 98.45%, 77.58% #####\n",
      "##### Procedure utilization: 95.07% #####\n",
      "******* PCS: 0.43666666666666665, PGS: 0.9233333333333333 *******\n",
      "seeding time: 3.479 ± 0.009\n",
      "exploration time: 11.548 ± 0.029\n",
      "greedy time: 2.471 ± 0.010\n",
      "simulation time in seeding: 16.740 ± 0.030\n",
      "simulation time in exploration: 56.847 ± 0.097\n",
      "simulation time in greedy: 9.583 ± 0.041\n",
      "total time: 17.497 ± 0.046\n",
      "total simulation time: 83.169 ± 0.164\n",
      "\n",
      " ########### 5 cores, with batch size 20 ######## \n",
      "\n",
      "\n",
      "Total number of alternatives - 11774\n",
      "Seeding/Exploration/Greedy budget - B=20k, B=70k, B=10k\n",
      "Number of groups for seeding - 11\n",
      "Number of processors used - 5\n",
      "Greedy batch size in each processor - 20\n",
      "Total replications to conduct - 300\n",
      "Asyn version? True\n",
      "Initializing 5 processors...\n",
      "Initializing the processors takes 4.499s\n"
     ]
    },
    {
     "name": "stderr",
     "output_type": "stream",
     "text": [
      "100%|██████████████████████████████████████████████████████████████████████████████| 300/300 [1:25:09<00:00, 17.03s/it]\n"
     ]
    },
    {
     "name": "stdout",
     "output_type": "stream",
     "text": [
      "##### Utilization ratios for the stages: 97.03%, 98.75%, 87.10% #####\n",
      "##### Procedure utilization: 96.89% #####\n",
      "******* PCS: 0.43333333333333335, PGS: 0.96 *******\n",
      "seeding time: 3.411 ± 0.001\n",
      "exploration time: 11.389 ± 0.004\n",
      "greedy time: 2.204 ± 0.001\n",
      "simulation time in seeding: 16.549 ± 0.003\n",
      "simulation time in exploration: 56.233 ± 0.020\n",
      "simulation time in greedy: 9.597 ± 0.012\n",
      "total time: 17.004 ± 0.004\n",
      "total simulation time: 82.379 ± 0.024\n",
      "\n",
      " ########### 10 cores, with batch size 1 ######## \n",
      "\n",
      "\n",
      "Total number of alternatives - 11774\n",
      "Seeding/Exploration/Greedy budget - B=20k, B=70k, B=10k\n",
      "Number of groups for seeding - 11\n",
      "Number of processors used - 10\n",
      "Greedy batch size in each processor - 1\n",
      "Total replications to conduct - 300\n",
      "Asyn version? True\n",
      "Initializing 10 processors...\n",
      "Initializing the processors takes 9.014s\n"
     ]
    },
    {
     "name": "stderr",
     "output_type": "stream",
     "text": [
      "100%|██████████████████████████████████████████████████████████████████████████████| 300/300 [1:41:37<00:00, 20.33s/it]\n"
     ]
    },
    {
     "name": "stdout",
     "output_type": "stream",
     "text": [
      "##### Utilization ratios for the stages: 97.81%, 97.93%, 9.18% #####\n",
      "##### Procedure utilization: 41.59% #####\n",
      "******* PCS: 0.43, PGS: 0.9466666666666667 *******\n",
      "seeding time: 1.687 ± 0.001\n",
      "exploration time: 5.727 ± 0.003\n",
      "greedy time: 12.884 ± 0.003\n",
      "simulation time in seeding: 16.500 ± 0.005\n",
      "simulation time in exploration: 56.083 ± 0.010\n",
      "simulation time in greedy: 11.830 ± 0.015\n",
      "total time: 20.297 ± 0.005\n",
      "total simulation time: 84.413 ± 0.019\n",
      "\n",
      " ########### 10 cores, with batch size 10 ######## \n",
      "\n",
      "\n",
      "Total number of alternatives - 11774\n",
      "Seeding/Exploration/Greedy budget - B=20k, B=70k, B=10k\n",
      "Number of groups for seeding - 11\n",
      "Number of processors used - 10\n",
      "Greedy batch size in each processor - 10\n",
      "Total replications to conduct - 300\n",
      "Asyn version? True\n",
      "Initializing 10 processors...\n",
      "Initializing the processors takes 8.967s\n"
     ]
    },
    {
     "name": "stderr",
     "output_type": "stream",
     "text": [
      "100%|████████████████████████████████████████████████████████████████████████████████| 300/300 [43:30<00:00,  8.70s/it]\n"
     ]
    },
    {
     "name": "stdout",
     "output_type": "stream",
     "text": [
      "##### Utilization ratios for the stages: 97.87%, 98.25%, 75.26% #####\n",
      "##### Procedure utilization: 94.77% #####\n",
      "******* PCS: 0.44333333333333336, PGS: 0.9633333333333334 *******\n",
      "seeding time: 1.685 ± 0.002\n",
      "exploration time: 5.702 ± 0.003\n",
      "greedy time: 1.286 ± 0.001\n",
      "simulation time in seeding: 16.487 ± 0.006\n",
      "simulation time in exploration: 56.027 ± 0.009\n",
      "simulation time in greedy: 9.676 ± 0.010\n",
      "total time: 8.673 ± 0.003\n",
      "total simulation time: 82.189 ± 0.015\n",
      "\n",
      " ########### 10 cores, with batch size 20 ######## \n",
      "\n",
      "\n",
      "Total number of alternatives - 11774\n",
      "Seeding/Exploration/Greedy budget - B=20k, B=70k, B=10k\n",
      "Number of groups for seeding - 11\n",
      "Number of processors used - 10\n",
      "Greedy batch size in each processor - 20\n",
      "Total replications to conduct - 300\n",
      "Asyn version? True\n",
      "Initializing 10 processors...\n",
      "Initializing the processors takes 8.998s\n"
     ]
    },
    {
     "name": "stderr",
     "output_type": "stream",
     "text": [
      "100%|████████████████████████████████████████████████████████████████████████████████| 300/300 [42:38<00:00,  8.53s/it]\n"
     ]
    },
    {
     "name": "stdout",
     "output_type": "stream",
     "text": [
      "##### Utilization ratios for the stages: 97.69%, 98.22%, 86.51% #####\n",
      "##### Procedure utilization: 96.60% #####\n",
      "******* PCS: 0.45666666666666667, PGS: 0.9566666666666667 *******\n",
      "seeding time: 1.689 ± 0.002\n",
      "exploration time: 5.709 ± 0.002\n",
      "greedy time: 1.101 ± 0.001\n",
      "simulation time in seeding: 16.504 ± 0.006\n",
      "simulation time in exploration: 56.071 ± 0.018\n",
      "simulation time in greedy: 9.522 ± 0.015\n",
      "total time: 8.499 ± 0.003\n",
      "total simulation time: 82.097 ± 0.027\n",
      "\n",
      " ########### 20 cores, with batch size 1 ######## \n",
      "\n",
      "\n",
      "Total number of alternatives - 11774\n",
      "Seeding/Exploration/Greedy budget - B=20k, B=70k, B=10k\n",
      "Number of groups for seeding - 11\n",
      "Number of processors used - 20\n",
      "Greedy batch size in each processor - 1\n",
      "Total replications to conduct - 300\n",
      "Asyn version? True\n",
      "Initializing 20 processors...\n",
      "Initializing the processors takes 17.950s\n"
     ]
    },
    {
     "name": "stderr",
     "output_type": "stream",
     "text": [
      "100%|██████████████████████████████████████████████████████████████████████████████| 300/300 [1:24:17<00:00, 16.86s/it]\n"
     ]
    },
    {
     "name": "stdout",
     "output_type": "stream",
     "text": [
      "##### Utilization ratios for the stages: 94.95%, 96.78%, 4.62% #####\n",
      "##### Procedure utilization: 25.17% #####\n",
      "******* PCS: 0.44, PGS: 0.9433333333333334 *******\n",
      "seeding time: 0.870 ± 0.004\n",
      "exploration time: 2.899 ± 0.005\n",
      "greedy time: 13.056 ± 0.004\n",
      "simulation time in seeding: 16.519 ± 0.012\n",
      "simulation time in exploration: 56.115 ± 0.016\n",
      "simulation time in greedy: 12.052 ± 0.016\n",
      "total time: 16.824 ± 0.008\n",
      "total simulation time: 84.685 ± 0.027\n",
      "\n",
      " ########### 20 cores, with batch size 10 ######## \n",
      "\n",
      "\n",
      "Total number of alternatives - 11774\n",
      "Seeding/Exploration/Greedy budget - B=20k, B=70k, B=10k\n",
      "Number of groups for seeding - 11\n",
      "Number of processors used - 20\n",
      "Greedy batch size in each processor - 10\n",
      "Total replications to conduct - 300\n",
      "Asyn version? True\n",
      "Initializing 20 processors...\n",
      "Initializing the processors takes 17.934s\n"
     ]
    },
    {
     "name": "stderr",
     "output_type": "stream",
     "text": [
      "100%|████████████████████████████████████████████████████████████████████████████████| 300/300 [27:19<00:00,  5.46s/it]\n"
     ]
    },
    {
     "name": "stdout",
     "output_type": "stream",
     "text": [
      "##### Utilization ratios for the stages: 88.28%, 89.91%, 36.60% #####\n",
      "##### Procedure utilization: 76.46% #####\n",
      "******* PCS: 0.45, PGS: 0.9533333333333334 *******\n",
      "seeding time: 0.943 ± 0.002\n",
      "exploration time: 3.147 ± 0.005\n",
      "greedy time: 1.341 ± 0.002\n",
      "simulation time in seeding: 16.651 ± 0.010\n",
      "simulation time in exploration: 56.596 ± 0.020\n",
      "simulation time in greedy: 9.818 ± 0.010\n",
      "total time: 5.432 ± 0.005\n",
      "total simulation time: 83.064 ± 0.026\n",
      "\n",
      " ########### 20 cores, with batch size 20 ######## \n",
      "\n",
      "\n",
      "Total number of alternatives - 11774\n",
      "Seeding/Exploration/Greedy budget - B=20k, B=70k, B=10k\n",
      "Number of groups for seeding - 11\n",
      "Number of processors used - 20\n",
      "Greedy batch size in each processor - 20\n",
      "Total replications to conduct - 300\n",
      "Asyn version? True\n",
      "Initializing 20 processors...\n",
      "Initializing the processors takes 17.930s\n"
     ]
    },
    {
     "name": "stderr",
     "output_type": "stream",
     "text": [
      "100%|████████████████████████████████████████████████████████████████████████████████| 300/300 [22:32<00:00,  4.51s/it]\n"
     ]
    },
    {
     "name": "stdout",
     "output_type": "stream",
     "text": [
      "##### Utilization ratios for the stages: 92.07%, 96.19%, 73.67% #####\n",
      "##### Procedure utilization: 92.07% #####\n",
      "******* PCS: 0.49, PGS: 0.9666666666666667 *******\n",
      "seeding time: 0.899 ± 0.002\n",
      "exploration time: 2.924 ± 0.006\n",
      "greedy time: 0.653 ± 0.001\n",
      "simulation time in seeding: 16.552 ± 0.008\n",
      "simulation time in exploration: 56.258 ± 0.018\n",
      "simulation time in greedy: 9.623 ± 0.012\n",
      "total time: 4.476 ± 0.006\n",
      "total simulation time: 82.433 ± 0.023\n",
      "\n",
      " ########### 40 cores, with batch size 1 ######## \n",
      "\n",
      "\n",
      "Total number of alternatives - 11774\n",
      "Seeding/Exploration/Greedy budget - B=20k, B=70k, B=10k\n",
      "Number of groups for seeding - 11\n",
      "Number of processors used - 40\n",
      "Greedy batch size in each processor - 1\n",
      "Total replications to conduct - 300\n",
      "Asyn version? True\n",
      "Initializing 40 processors...\n",
      "Initializing the processors takes 35.853s\n"
     ]
    },
    {
     "name": "stderr",
     "output_type": "stream",
     "text": [
      "100%|██████████████████████████████████████████████████████████████████████████████| 300/300 [1:18:12<00:00, 15.64s/it]\n"
     ]
    },
    {
     "name": "stdout",
     "output_type": "stream",
     "text": [
      "##### Utilization ratios for the stages: 85.38%, 91.35%, 2.25% #####\n",
      "##### Procedure utilization: 13.66% #####\n",
      "******* PCS: 0.45, PGS: 0.9833333333333333 *******\n",
      "seeding time: 0.484 ± 0.001\n",
      "exploration time: 1.546 ± 0.009\n",
      "greedy time: 13.574 ± 0.008\n",
      "simulation time in seeding: 16.534 ± 0.014\n",
      "simulation time in exploration: 56.483 ± 0.161\n",
      "simulation time in greedy: 12.239 ± 0.019\n",
      "total time: 15.604 ± 0.013\n",
      "total simulation time: 85.256 ± 0.163\n",
      "\n",
      " ########### 40 cores, with batch size 10 ######## \n",
      "\n",
      "\n",
      "Total number of alternatives - 11774\n",
      "Seeding/Exploration/Greedy budget - B=20k, B=70k, B=10k\n",
      "Number of groups for seeding - 11\n",
      "Number of processors used - 40\n",
      "Greedy batch size in each processor - 10\n",
      "Total replications to conduct - 300\n",
      "Asyn version? True\n",
      "Initializing 40 processors...\n",
      "Initializing the processors takes 35.892s\n"
     ]
    },
    {
     "name": "stderr",
     "output_type": "stream",
     "text": [
      "100%|████████████████████████████████████████████████████████████████████████████████| 300/300 [16:55<00:00,  3.39s/it]\n"
     ]
    },
    {
     "name": "stdout",
     "output_type": "stream",
     "text": [
      "##### Utilization ratios for the stages: 87.45%, 93.34%, 17.83% #####\n",
      "##### Procedure utilization: 61.62% #####\n",
      "******* PCS: 0.4533333333333333, PGS: 0.9733333333333334 *******\n",
      "seeding time: 0.467 ± 0.002\n",
      "exploration time: 1.506 ± 0.006\n",
      "greedy time: 1.367 ± 0.001\n",
      "simulation time in seeding: 16.337 ± 0.013\n",
      "simulation time in exploration: 56.248 ± 0.026\n",
      "simulation time in greedy: 9.750 ± 0.010\n",
      "total time: 3.340 ± 0.007\n",
      "total simulation time: 82.335 ± 0.031\n",
      "\n",
      " ########### 40 cores, with batch size 20 ######## \n",
      "\n",
      "\n",
      "Total number of alternatives - 11774\n",
      "Seeding/Exploration/Greedy budget - B=20k, B=70k, B=10k\n",
      "Number of groups for seeding - 11\n",
      "Number of processors used - 40\n",
      "Greedy batch size in each processor - 20\n",
      "Total replications to conduct - 300\n",
      "Asyn version? True\n",
      "Initializing 40 processors...\n",
      "Initializing the processors takes 35.970s\n"
     ]
    },
    {
     "name": "stderr",
     "output_type": "stream",
     "text": [
      "100%|████████████████████████████████████████████████████████████████████████████████| 300/300 [14:10<00:00,  2.84s/it]\n"
     ]
    },
    {
     "name": "stdout",
     "output_type": "stream",
     "text": [
      "##### Utilization ratios for the stages: 80.79%, 88.14%, 35.29% #####\n",
      "##### Procedure utilization: 73.88% #####\n",
      "******* PCS: 0.48, PGS: 0.9666666666666667 *******\n",
      "seeding time: 0.507 ± 0.002\n",
      "exploration time: 1.601 ± 0.003\n",
      "greedy time: 0.683 ± 0.001\n",
      "simulation time in seeding: 16.389 ± 0.015\n",
      "simulation time in exploration: 56.444 ± 0.027\n",
      "simulation time in greedy: 9.634 ± 0.016\n",
      "total time: 2.791 ± 0.004\n",
      "total simulation time: 82.467 ± 0.035\n"
     ]
    }
   ],
   "source": [
    "for num_cores in core_confs:\n",
    "    for batch_size in batch_sizes:\n",
    "        print(\"\\n ########### {} cores, with batch size {} ######## \\n\".format(num_cores, batch_size))\n",
    "        _seed = rng.integers(1, 10e8)\n",
    "        is_asyn = True\n",
    "        results, phasetimeset, simutimeset = EFGPlusPlus(generator, nsd, n0, ng, G, num_cores, \n",
    "                                                              batch_size, n_reps, _seed, is_asyn)\n",
    "        process_result(generator, num_cores, results, phasetimeset, simutimeset)"
   ]
  },
  {
   "cell_type": "code",
   "execution_count": null,
   "id": "86c31cfb",
   "metadata": {},
   "outputs": [],
   "source": []
  }
 ],
 "metadata": {
  "kernelspec": {
   "display_name": "Python 3 (ipykernel)",
   "language": "python",
   "name": "python3"
  },
  "language_info": {
   "codemirror_mode": {
    "name": "ipython",
    "version": 3
   },
   "file_extension": ".py",
   "mimetype": "text/x-python",
   "name": "python",
   "nbconvert_exporter": "python",
   "pygments_lexer": "ipython3",
   "version": "3.9.13"
  }
 },
 "nbformat": 4,
 "nbformat_minor": 5
}
