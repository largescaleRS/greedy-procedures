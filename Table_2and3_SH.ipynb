{
 "cells": [
  {
   "cell_type": "code",
   "execution_count": 1,
   "id": "19a4da82",
   "metadata": {},
   "outputs": [],
   "source": [
    "import numpy as np\n",
    "import ray\n",
    "import matplotlib.pyplot as plt\n",
    "import time\n",
    "from utils import *\n",
    "from procedures import *\n",
    "plt.rcParams[\"font.sans-serif\"] = \"DejaVu Sans\"\n",
    "plt.rcParams[\"mathtext.default\"]  = \"it\"\n",
    "plt.rcParams[\"mathtext.fontset\"]  = \"dejavusans\""
   ]
  },
  {
   "cell_type": "code",
   "execution_count": 2,
   "id": "09793ee4",
   "metadata": {},
   "outputs": [
    {
     "name": "stderr",
     "output_type": "stream",
     "text": [
      "2023-07-01 17:01:52,752\tINFO services.py:1274 -- View the Ray dashboard at \u001b[1m\u001b[32mhttp://127.0.0.1:8265\u001b[39m\u001b[22m\n"
     ]
    },
    {
     "data": {
      "text/plain": [
       "{'node_ip_address': '10.192.9.221',\n",
       " 'raylet_ip_address': '10.192.9.221',\n",
       " 'redis_address': '10.192.9.221:6379',\n",
       " 'object_store_address': 'tcp://127.0.0.1:64105',\n",
       " 'raylet_socket_name': 'tcp://127.0.0.1:65478',\n",
       " 'webui_url': '127.0.0.1:8265',\n",
       " 'session_dir': 'C:\\\\Users\\\\Admin\\\\AppData\\\\Local\\\\Temp\\\\ray\\\\session_2023-07-01_17-01-47_715878_21556',\n",
       " 'metrics_export_port': 64087,\n",
       " 'node_id': 'a70617b06a3235813bde238bc02687141c6abc6764f2cfa6a354295c'}"
      ]
     },
     "execution_count": 2,
     "metadata": {},
     "output_type": "execute_result"
    }
   ],
   "source": [
    "# Number of parallel threads to be used\n",
    "# Shut down any existing Ray processes\n",
    "# Initialize Ray with the specified number of parallel threads\n",
    "\n",
    "num_cpus=96\n",
    "ray.shutdown()\n",
    "ray.init(num_cpus=num_cpus, ignore_reinit_error=True)"
   ]
  },
  {
   "cell_type": "raw",
   "id": "52468f93",
   "metadata": {},
   "source": [
    "The experiments included are all conducted on lab servers with more than 50 CPU cores (supporting more than 100 concurrent computing threads) and 512 GB memory.\n",
    "\n",
    "Even if your PC or server does not have 48 CPUs to support 96 parallel threads (Ray actors), you CAN also run the codes. But, when running the computing blocks, the warning of too many actors may appear. You can ignore the warnings and wait for the completed results. The total computing time depends on how many CPUs are TRULY used and the performance of your CPUs. It may take HOURS to finish one single experiment if you only have 8 CPUs on your computer. A 512 GB of memory is NOT necessary, but there is a risk of memory overload if it is too small.\n",
    "\n",
    "You CAN change the num_cpus (16 if there are 8 CPUs) to a smaller number to avoid the warnings or overload of your computer.\n",
    "\n",
    "This set of experiments takes 5 hours even on a server with more than 50 CPU cores."
   ]
  },
  {
   "cell_type": "raw",
   "id": "273c7486",
   "metadata": {},
   "source": [
    "TpMaxSimulator is a C lib, which is used as a Python extension module. \n",
    "The Python codes are translated from a Java version (at https://github.com/biazhong/FBKT/blob/778fb1ab999de22ab85ee3d3ae1d3c9f3a1d52fc/FBKTSpark/src/main/java/problems/TpMax.java).\n",
    "\n",
    "To speed up the simulation, we use Cython to compile it into C lib. The setup.py is used for this. See https://cython.readthedocs.io/en/latest/src/quickstart/build.html (Building a Cython module using setup tools) for guidance on how to build the .pyx file into a Python extension module. \n",
    "\n",
    "The .so files are the produced modules for different Python versions on MAC OS. The .pyd, .lib, and .exp files are the produced modules on Windows. We include the files for Python 3.8 and 3.9. If your Python version is not covered, please compile the .pyx file."
   ]
  },
  {
   "cell_type": "code",
   "execution_count": 3,
   "id": "0d8b9677",
   "metadata": {},
   "outputs": [],
   "source": [
    "from TpMaxSimulator import TpMaxSimulator"
   ]
  },
  {
   "cell_type": "raw",
   "id": "e4a95e07",
   "metadata": {},
   "source": [
    "WARNING: Due to MAC OS's security check on external software, the first time you use TpMaxSimulator you need to allow external software permission in Settings - Privacy and Security."
   ]
  },
  {
   "cell_type": "raw",
   "id": "7da5f1e2",
   "metadata": {},
   "source": [
    "Table 2 and Table 3 involves the results of six procedures (FBKT, FBKT-Seeding, EFG, EFGPlus, Modified SH, SH) on \n",
    "4 problem types with parameters (20, 20), (30, 30), (45, 30), and (45, 45) respectively. \n",
    "\n",
    "The experiments under (20, 20) and (30, 30) are done in Table_2and3_Part1.ipynb.\n",
    "\n",
    "The experiments under (45, 30) and (45, 45) are done in Table_2and3_Part2.ipynb.\n",
    "\n",
    "The experiments under the SH procedure are done in this Table_2and3_SH.ipynb.\n",
    "\n",
    "The results of these notebooks are recorded in Table 2 and Table 3. \n",
    "\n",
    "NOTICE: We round the PCS and PGS results to two decimal places."
   ]
  },
  {
   "cell_type": "raw",
   "id": "5f5924ef",
   "metadata": {},
   "source": [
    "Furthermore, four schemes of total sampling budget are used, i.e., 30k, 50k, 100k, and 200k. \n",
    "Table 2 includes the PCS under 50k, 100k, 200k. \n",
    "Table 3 includes the PGS under 30k, 50k, 100k. \n",
    "\n",
    "Please notice the order of the experiments. \n",
    "\n",
    "For each problem_type, two layers of for-loop are used. The first layer is used to iterate the budget scheme, while the second is used to iterate the procedures."
   ]
  },
  {
   "cell_type": "code",
   "execution_count": null,
   "id": "fbebb04c",
   "metadata": {},
   "outputs": [],
   "source": [
    "# Rewrite the TpMaxGenerator function of the utils.py\n",
    "# The __init__ is slightly updated compared to the original version during the review process.\n",
    "# To produce exactly the same results, we write this version here.\n",
    "\n",
    "class TpMaxGenerator(object):\n",
    "    \"\"\"\n",
    "    Generator class for throughput maximization (TP) simulations.\n",
    "\n",
    "    Attributes:\n",
    "        _njobs (int): Number of jobs.\n",
    "        _nstages (int): Number of stages.\n",
    "        _burnin (int): Burn-in parameter.\n",
    "        slns (ndarray): Array of solution vectors.\n",
    "        means (ndarray): Array of means.\n",
    "        best_mean (float): Maximum mean value.\n",
    "        simulator (function): Simulator function for TP.\n",
    "    \"\"\"\n",
    "\n",
    "    def __init__(self, _njobs,  _nstages, _burnin, slns, means, simulator):\n",
    "        \"\"\"\n",
    "        Initialize the TpMaxGenerator with the provided parameters.\n",
    "\n",
    "        Args:\n",
    "            _njobs (int): Number of jobs.\n",
    "            _nstages (int): Number of stages.\n",
    "            _burnin (int): Burn-in parameter.\n",
    "            slns (ndarray): Array of solution vectors.\n",
    "            means (ndarray): Array of means.\n",
    "            simulator (function): Simulator function for TP.\n",
    "        \"\"\"\n",
    "\n",
    "        self._njobs = _njobs\n",
    "        self._nstages = _nstages\n",
    "        self._burnin = _burnin\n",
    "        # suffle the orders\n",
    "        ids = np.arange(len(slns))\n",
    "        self.slns = slns\n",
    "        self.means = means\n",
    "        self.best_mean = np.max(self.means)\n",
    "        self.simulator = simulator\n",
    "        \n",
    "    def get(self, index, n=1):\n",
    "        \"\"\"\n",
    "        Generate TP simulations based on the specified index.\n",
    "\n",
    "        Args:\n",
    "            index (int): Index of the solution vector.\n",
    "            n (int): Number of simulations to generate (default is 1).\n",
    "\n",
    "        Returns:\n",
    "            ndarray: Array of TP simulation results.\n",
    "        \"\"\"\n",
    "\n",
    "        r = self.slns[index][:self._nstages]\n",
    "        b = self.slns[index][self._nstages:]\n",
    "        if n == 1:\n",
    "            return TpMax(self._njobs, self._nstages, self._burnin, r, b, self.simulator)\n",
    "        else:\n",
    "            results = [TpMax(self._njobs, self._nstages, self._burnin, r, b, self.simulator) for i in range(n)]\n",
    "            return np.array(results)\n",
    "        \n",
    "    def syscount(self):\n",
    "        return len(self.slns)\n",
    "    \n",
    "    def getbest(self):\n",
    "        return self.best_mean"
   ]
  },
  {
   "cell_type": "code",
   "execution_count": 4,
   "id": "d4b38991",
   "metadata": {},
   "outputs": [],
   "source": [
    "recipe = [30, 50, 100, 200]\n",
    "n_recipe = len(recipe)\n",
    "n_replications = 500\n",
    "G = 11\n",
    "_njobs, _nstages, _burnin = 1050, 3, 1000"
   ]
  },
  {
   "cell_type": "code",
   "execution_count": 5,
   "id": "ddd93196",
   "metadata": {},
   "outputs": [],
   "source": [
    "SH_results = []"
   ]
  },
  {
   "cell_type": "code",
   "execution_count": 6,
   "id": "0663b2e8",
   "metadata": {
    "scrolled": false
   },
   "outputs": [
    {
     "name": "stdout",
     "output_type": "stream",
     "text": [
      "problem size:3249\n",
      "Sequential Halving with n:30\n",
      "--------New experiments with  k=3249----------------------\n",
      "Start to simulate... at Sat Jul  1 17:02:06 2023\n",
      "PCS:0.482, PGS:0.976\n",
      "Total time used: 87.10181379318237s, simulation ends at Sat Jul  1 17:03:33 2023\n",
      "Sequential Halving with n:50\n",
      "--------New experiments with  k=3249----------------------\n",
      "Start to simulate... at Sat Jul  1 17:03:33 2023\n",
      "PCS:0.574, PGS:0.994\n",
      "Total time used: 146.85943341255188s, simulation ends at Sat Jul  1 17:06:00 2023\n",
      "Sequential Halving with n:100\n",
      "--------New experiments with  k=3249----------------------\n",
      "Start to simulate... at Sat Jul  1 17:06:00 2023\n",
      "PCS:0.632, PGS:1.0\n",
      "Total time used: 293.76562428474426s, simulation ends at Sat Jul  1 17:10:53 2023\n",
      "Sequential Halving with n:200\n",
      "--------New experiments with  k=3249----------------------\n",
      "Start to simulate... at Sat Jul  1 17:10:54 2023\n",
      "PCS:0.688, PGS:1.0\n",
      "Total time used: 589.7500927448273s, simulation ends at Sat Jul  1 17:20:43 2023\n",
      "problem size:11774\n",
      "Sequential Halving with n:30\n",
      "--------New experiments with  k=11774----------------------\n",
      "Start to simulate... at Sat Jul  1 17:20:44 2023\n",
      "PCS:0.41, PGS:0.9\n",
      "Total time used: 318.90592193603516s, simulation ends at Sat Jul  1 17:26:02 2023\n",
      "Sequential Halving with n:50\n",
      "--------New experiments with  k=11774----------------------\n",
      "Start to simulate... at Sat Jul  1 17:26:03 2023\n",
      "PCS:0.438, PGS:0.956\n",
      "Total time used: 525.6585018634796s, simulation ends at Sat Jul  1 17:34:48 2023\n",
      "Sequential Halving with n:100\n",
      "--------New experiments with  k=11774----------------------\n",
      "Start to simulate... at Sat Jul  1 17:34:48 2023\n",
      "PCS:0.522, PGS:0.978\n",
      "Total time used: 1063.3414573669434s, simulation ends at Sat Jul  1 17:52:31 2023\n",
      "Sequential Halving with n:200\n",
      "--------New experiments with  k=11774----------------------\n",
      "Start to simulate... at Sat Jul  1 17:52:32 2023\n",
      "PCS:0.596, PGS:1.0\n",
      "Total time used: 2119.0154435634613s, simulation ends at Sat Jul  1 18:27:50 2023\n",
      "problem size:27434\n",
      "Sequential Halving with n:30\n",
      "--------New experiments with  k=27434----------------------\n",
      "Start to simulate... at Sat Jul  1 18:27:51 2023\n",
      "PCS:0.46, PGS:0.962\n",
      "Total time used: 734.5625033378601s, simulation ends at Sat Jul  1 18:40:05 2023\n",
      "Sequential Halving with n:50\n",
      "--------New experiments with  k=27434----------------------\n",
      "Start to simulate... at Sat Jul  1 18:40:06 2023\n",
      "PCS:0.538, PGS:0.99\n",
      "Total time used: 1214.9531979560852s, simulation ends at Sat Jul  1 19:00:20 2023\n",
      "Sequential Halving with n:100\n",
      "--------New experiments with  k=27434----------------------\n",
      "Start to simulate... at Sat Jul  1 19:00:21 2023\n",
      "PCS:0.606, PGS:0.994\n",
      "Total time used: 2431.3908035755157s, simulation ends at Sat Jul  1 19:40:51 2023\n",
      "Sequential Halving with n:200\n",
      "--------New experiments with  k=27434----------------------\n",
      "Start to simulate... at Sat Jul  1 19:40:52 2023\n",
      "PCS:0.698, PGS:1.0\n",
      "Total time used: 4882.875159740448s, simulation ends at Sat Jul  1 21:02:14 2023\n",
      "problem size:41624\n",
      "Sequential Halving with n:30\n",
      "--------New experiments with  k=41624----------------------\n",
      "Start to simulate... at Sat Jul  1 21:02:15 2023\n",
      "PCS:0.582, PGS:0.918\n",
      "Total time used: 1067.971296787262s, simulation ends at Sat Jul  1 21:20:02 2023\n",
      "Sequential Halving with n:50\n",
      "--------New experiments with  k=41624----------------------\n",
      "Start to simulate... at Sat Jul  1 21:20:03 2023\n",
      "PCS:0.62, PGS:0.956\n",
      "Total time used: 1844.218450307846s, simulation ends at Sat Jul  1 21:50:46 2023\n",
      "Sequential Halving with n:100\n",
      "--------New experiments with  k=41624----------------------\n",
      "Start to simulate... at Sat Jul  1 21:50:47 2023\n",
      "PCS:0.688, PGS:0.964\n",
      "Total time used: 3684.781261920929s, simulation ends at Sat Jul  1 22:52:11 2023\n",
      "Sequential Halving with n:200\n",
      "--------New experiments with  k=41624----------------------\n",
      "Start to simulate... at Sat Jul  1 22:52:12 2023\n",
      "PCS:0.75, PGS:0.99\n",
      "Total time used: 7389.234368562698s, simulation ends at Sun Jul  2 00:55:20 2023\n"
     ]
    }
   ],
   "source": [
    "problem_types = [(20, 20), (30, 30), (45, 30), (45, 45)]\n",
    "seed = 20230701\n",
    "np.random.seed(seed)\n",
    "rng = np.random.default_rng(seed)\n",
    "for problem_type in problem_types:\n",
    "    slns, means = loadTPMax(problem_type[0], problem_type[1])\n",
    "    print(\"problem size:{}\".format(len(slns)))\n",
    "    generators = [TpMaxGenerator(_njobs, _nstages, _burnin, slns, means, TpMaxSimulator) for i in range(n_replications)]\n",
    "    for i in range(n_recipe):\n",
    "        n = recipe[i]\n",
    "        print(\"Sequential Halving with n:{}\".format(n))\n",
    "        PCS, PGS = parallel_experiments(rng,  generators, policy=SH, remote_policy=remote_SH,  args={\"n\":n})\n",
    "        SH_results.append([PCS,PGS])"
   ]
  }
 ],
 "metadata": {
  "kernelspec": {
   "display_name": "Python 3 (ipykernel)",
   "language": "python",
   "name": "python3"
  },
  "language_info": {
   "codemirror_mode": {
    "name": "ipython",
    "version": 3
   },
   "file_extension": ".py",
   "mimetype": "text/x-python",
   "name": "python",
   "nbconvert_exporter": "python",
   "pygments_lexer": "ipython3",
   "version": "3.9.13"
  }
 },
 "nbformat": 4,
 "nbformat_minor": 5
}
