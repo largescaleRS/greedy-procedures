{
 "cells": [
  {
   "cell_type": "code",
   "execution_count": 1,
   "id": "40b10af7",
   "metadata": {},
   "outputs": [],
   "source": [
    "import numpy as np\n",
    "import ray\n",
    "import matplotlib.pyplot as plt\n",
    "import time\n",
    "from utils import *\n",
    "from procedures import *\n",
    "# plt.rcParams[\"font.sans-serif\"] = \"DejaVu Sans\"\n",
    "# plt.rcParams[\"mathtext.default\"]  = \"it\"\n",
    "# plt.rcParams[\"mathtext.fontset\"]  = \"dejavusans\""
   ]
  },
  {
   "cell_type": "code",
   "execution_count": null,
   "id": "23067640",
   "metadata": {},
   "outputs": [],
   "source": []
  },
  {
   "cell_type": "raw",
   "id": "f25a08c6",
   "metadata": {},
   "source": [
    "Experiment results of this notebook is used in Figure_EC9.ipynb"
   ]
  },
  {
   "cell_type": "code",
   "execution_count": 2,
   "id": "771c4bf9",
   "metadata": {},
   "outputs": [],
   "source": [
    "class EMCVGenerator(object):\n",
    "    def __init__(self, n_alternatives, gamma, lamda, var, best_index=0):\n",
    "        self.n_alternatives = n_alternatives\n",
    "        self.gamma = gamma\n",
    "        self.means = -(np.arange(n_alternatives)-1)/n_alternatives*lamda\n",
    "        self.means[best_index] = gamma\n",
    "        self.best_mean = gamma\n",
    "        self.variances = np.ones(self.n_alternatives)*var\n",
    "        self.stds = np.sqrt(self.variances)\n",
    "        \n",
    "    def get(self, index, n=1):\n",
    "        return np.random.normal(self.means[index], self.stds[index], n)\n",
    "        \n",
    "    def syscount(self):\n",
    "        return self.n_alternatives"
   ]
  },
  {
   "cell_type": "code",
   "execution_count": 3,
   "id": "4f009715",
   "metadata": {},
   "outputs": [],
   "source": [
    "def func1(n):\n",
    "    return np.log2(n)\n",
    "\n",
    "def func2(n):\n",
    "    return np.sqrt(n)\n",
    "\n",
    "def func3(n):\n",
    "    return 0.1*n"
   ]
  },
  {
   "cell_type": "code",
   "execution_count": 4,
   "id": "8c983e01",
   "metadata": {},
   "outputs": [],
   "source": [
    "class EMCVFuncGenerator(object):\n",
    "    def __init__(self, n_alternatives, gamma, func, var, best_index=0):\n",
    "        self.n_alternatives = n_alternatives\n",
    "        self.gamma = gamma\n",
    "        self.means = -(np.arange(n_alternatives)-1)/n_alternatives*func(n_alternatives)\n",
    "        self.means[best_index] = gamma\n",
    "        self.best_mean = gamma\n",
    "        self.variances = np.ones(self.n_alternatives)*var\n",
    "        self.stds = np.sqrt(self.variances)\n",
    "        \n",
    "    def get(self, index, n=1):\n",
    "        return np.random.normal(self.means[index], self.stds[index], n)\n",
    "        \n",
    "    def syscount(self):\n",
    "        return self.n_alternatives"
   ]
  },
  {
   "cell_type": "code",
   "execution_count": null,
   "id": "edec2a72",
   "metadata": {},
   "outputs": [],
   "source": []
  },
  {
   "cell_type": "code",
   "execution_count": 5,
   "id": "b9160fa2",
   "metadata": {},
   "outputs": [
    {
     "data": {
      "text/plain": [
       "RayContext(dashboard_url='', python_version='3.8.0', ray_version='1.13.0', ray_commit='e4ce38d001dbbe09cd21c497fedd03d692b2be3e', address_info={'node_ip_address': '127.0.0.1', 'raylet_ip_address': '127.0.0.1', 'redis_address': None, 'object_store_address': 'tcp://127.0.0.1:56455', 'raylet_socket_name': 'tcp://127.0.0.1:60179', 'webui_url': '', 'session_dir': 'C:\\\\Users\\\\Admin\\\\AppData\\\\Local\\\\Temp\\\\ray\\\\session_2023-12-05_12-55-23_730329_70204', 'metrics_export_port': 59243, 'gcs_address': '127.0.0.1:62917', 'address': '127.0.0.1:62917', 'node_id': 'e3776480cf41589d58fe07957d3169d2345e0c17f30d258da69e4fc8'})"
      ]
     },
     "execution_count": 5,
     "metadata": {},
     "output_type": "execute_result"
    }
   ],
   "source": [
    "num_cpus=96\n",
    "ray.shutdown()\n",
    "ray.init(num_cpus=num_cpus, ignore_reinit_error=True)"
   ]
  },
  {
   "cell_type": "code",
   "execution_count": null,
   "id": "a036843c",
   "metadata": {},
   "outputs": [],
   "source": []
  },
  {
   "cell_type": "code",
   "execution_count": null,
   "id": "ce45a373",
   "metadata": {},
   "outputs": [],
   "source": []
  },
  {
   "cell_type": "code",
   "execution_count": 6,
   "id": "a2d32c14",
   "metadata": {},
   "outputs": [],
   "source": [
    "n_replications = 1000\n",
    " \n",
    "min_power = 3\n",
    "max_power = 16\n",
    "base = 2\n",
    "\n",
    "gamma = 0.1\n",
    "var = 1\n",
    "lamda = -1\n",
    "\n",
    "nsd = 2\n",
    "n0 = 16\n",
    "ng = 4"
   ]
  },
  {
   "cell_type": "code",
   "execution_count": 7,
   "id": "0c11d305",
   "metadata": {
    "scrolled": true
   },
   "outputs": [
    {
     "name": "stdout",
     "output_type": "stream",
     "text": [
      "This problem has 8 alternatives\n",
      "--------New experiments with  k=8----------------------\n",
      "Start to simulate... at Tue Dec  5 12:55:33 2023\n",
      "PCS:0.521, PGS:0.521\n",
      "Total time used: 1.8409287929534912s, simulation ends at Tue Dec  5 12:55:33 2023\n",
      "This problem has 16 alternatives\n",
      "--------New experiments with  k=16----------------------\n",
      "Start to simulate... at Tue Dec  5 12:55:35 2023\n",
      "PCS:0.585, PGS:0.585\n",
      "Total time used: 1.794384241104126s, simulation ends at Tue Dec  5 12:55:35 2023\n",
      "This problem has 32 alternatives\n",
      "--------New experiments with  k=32----------------------\n",
      "Start to simulate... at Tue Dec  5 12:55:37 2023\n",
      "PCS:0.553, PGS:0.553\n",
      "Total time used: 1.8331565856933594s, simulation ends at Tue Dec  5 12:55:37 2023\n",
      "This problem has 64 alternatives\n",
      "--------New experiments with  k=64----------------------\n",
      "Start to simulate... at Tue Dec  5 12:55:38 2023\n",
      "PCS:0.632, PGS:0.632\n",
      "Total time used: 1.8176944255828857s, simulation ends at Tue Dec  5 12:55:38 2023\n",
      "This problem has 128 alternatives\n",
      "--------New experiments with  k=128----------------------\n",
      "Start to simulate... at Tue Dec  5 12:55:40 2023\n",
      "PCS:0.661, PGS:0.661\n",
      "Total time used: 1.9723336696624756s, simulation ends at Tue Dec  5 12:55:40 2023\n",
      "This problem has 256 alternatives\n",
      "--------New experiments with  k=256----------------------\n",
      "Start to simulate... at Tue Dec  5 12:55:42 2023\n",
      "PCS:0.678, PGS:0.678\n",
      "Total time used: 1.985438346862793s, simulation ends at Tue Dec  5 12:55:42 2023\n",
      "This problem has 512 alternatives\n",
      "--------New experiments with  k=512----------------------\n",
      "Start to simulate... at Tue Dec  5 12:55:44 2023\n",
      "PCS:0.661, PGS:0.661\n",
      "Total time used: 1.9400780200958252s, simulation ends at Tue Dec  5 12:55:44 2023\n",
      "This problem has 1024 alternatives\n",
      "--------New experiments with  k=1024----------------------\n",
      "Start to simulate... at Tue Dec  5 12:55:46 2023\n",
      "PCS:0.657, PGS:0.657\n",
      "Total time used: 1.86118483543396s, simulation ends at Tue Dec  5 12:55:46 2023\n",
      "This problem has 2048 alternatives\n",
      "--------New experiments with  k=2048----------------------\n",
      "Start to simulate... at Tue Dec  5 12:55:48 2023\n",
      "PCS:0.668, PGS:0.668\n",
      "Total time used: 2.2536747455596924s, simulation ends at Tue Dec  5 12:55:49 2023\n",
      "This problem has 4096 alternatives\n",
      "--------New experiments with  k=4096----------------------\n",
      "Start to simulate... at Tue Dec  5 12:55:52 2023\n",
      "PCS:0.663, PGS:0.663\n",
      "Total time used: 4.16093111038208s, simulation ends at Tue Dec  5 12:55:53 2023\n",
      "This problem has 8192 alternatives\n",
      "--------New experiments with  k=8192----------------------\n",
      "Start to simulate... at Tue Dec  5 12:55:57 2023\n",
      "PCS:0.658, PGS:0.658\n",
      "Total time used: 8.43832802772522s, simulation ends at Tue Dec  5 12:56:02 2023\n",
      "This problem has 16384 alternatives\n",
      "--------New experiments with  k=16384----------------------\n",
      "Start to simulate... at Tue Dec  5 12:56:06 2023\n",
      "PCS:0.676, PGS:0.676\n",
      "Total time used: 18.321775913238525s, simulation ends at Tue Dec  5 12:56:20 2023\n",
      "This problem has 32768 alternatives\n",
      "--------New experiments with  k=32768----------------------\n",
      "Start to simulate... at Tue Dec  5 12:56:25 2023\n",
      "PCS:0.671, PGS:0.671\n",
      "Total time used: 43.631882667541504s, simulation ends at Tue Dec  5 12:57:05 2023\n",
      "This problem has 65536 alternatives\n",
      "--------New experiments with  k=65536----------------------\n",
      "Start to simulate... at Tue Dec  5 12:57:11 2023\n",
      "PCS:0.678, PGS:0.678\n",
      "Total time used: 177.95798540115356s, simulation ends at Tue Dec  5 13:00:04 2023\n"
     ]
    },
    {
     "data": {
      "text/plain": [
       "[0.521,\n",
       " 0.585,\n",
       " 0.553,\n",
       " 0.632,\n",
       " 0.661,\n",
       " 0.678,\n",
       " 0.661,\n",
       " 0.657,\n",
       " 0.668,\n",
       " 0.663,\n",
       " 0.658,\n",
       " 0.676,\n",
       " 0.671,\n",
       " 0.678]"
      ]
     },
     "execution_count": 7,
     "metadata": {},
     "output_type": "execute_result"
    }
   ],
   "source": [
    "EFG_results = []\n",
    "\n",
    "seed = 2023112203\n",
    "np.random.seed(seed)\n",
    "rng = np.random.default_rng(seed)\n",
    "\n",
    "for func in [func3]:\n",
    "    for power in np.arange(min_power, max_power+1):\n",
    "        print(\"This problem has {} alternatives\".format(base**power))\n",
    "        generators =   [EMCVFuncGenerator(base**power, gamma, func, var) for i in range(n_replications)]\n",
    "        PCS, PGS = parallel_experiments(rng, generators, policy=EFG, remote_policy=remote_EFG, args={\"n0\":n0, \"ng\":ng})\n",
    "        EFG_results.append(PCS)\n",
    "EFG_results"
   ]
  },
  {
   "cell_type": "code",
   "execution_count": 9,
   "id": "57a9317e",
   "metadata": {},
   "outputs": [
    {
     "name": "stdout",
     "output_type": "stream",
     "text": [
      "This problem has 8 alternatives\n",
      "--------New experiments with  k=8----------------------\n",
      "Start to simulate... at Tue Dec  5 13:02:59 2023\n",
      "PCS:0.654, PGS:0.654\n",
      "Total time used: 2.0925700664520264s, simulation ends at Tue Dec  5 13:02:59 2023\n",
      "This problem has 16 alternatives\n",
      "--------New experiments with  k=16----------------------\n",
      "Start to simulate... at Tue Dec  5 13:03:01 2023\n",
      "PCS:0.706, PGS:0.706\n",
      "Total time used: 2.1230947971343994s, simulation ends at Tue Dec  5 13:03:01 2023\n",
      "This problem has 32 alternatives\n",
      "--------New experiments with  k=32----------------------\n",
      "Start to simulate... at Tue Dec  5 13:03:03 2023\n",
      "PCS:0.736, PGS:0.736\n",
      "Total time used: 2.1989009380340576s, simulation ends at Tue Dec  5 13:03:03 2023\n",
      "This problem has 64 alternatives\n",
      "--------New experiments with  k=64----------------------\n",
      "Start to simulate... at Tue Dec  5 13:03:05 2023\n",
      "PCS:0.781, PGS:0.781\n",
      "Total time used: 2.0890324115753174s, simulation ends at Tue Dec  5 13:03:05 2023\n",
      "This problem has 128 alternatives\n",
      "--------New experiments with  k=128----------------------\n",
      "Start to simulate... at Tue Dec  5 13:03:07 2023\n",
      "PCS:0.796, PGS:0.796\n",
      "Total time used: 2.1013524532318115s, simulation ends at Tue Dec  5 13:03:07 2023\n",
      "This problem has 256 alternatives\n",
      "--------New experiments with  k=256----------------------\n",
      "Start to simulate... at Tue Dec  5 13:03:09 2023\n",
      "PCS:0.865, PGS:0.865\n",
      "Total time used: 2.127808094024658s, simulation ends at Tue Dec  5 13:03:10 2023\n",
      "This problem has 512 alternatives\n",
      "--------New experiments with  k=512----------------------\n",
      "Start to simulate... at Tue Dec  5 13:03:12 2023\n",
      "PCS:0.903, PGS:0.903\n",
      "Total time used: 2.164801836013794s, simulation ends at Tue Dec  5 13:03:12 2023\n",
      "This problem has 1024 alternatives\n",
      "--------New experiments with  k=1024----------------------\n",
      "Start to simulate... at Tue Dec  5 13:03:14 2023\n",
      "PCS:0.916, PGS:0.916\n",
      "Total time used: 2.1619999408721924s, simulation ends at Tue Dec  5 13:03:14 2023\n",
      "This problem has 2048 alternatives\n",
      "--------New experiments with  k=2048----------------------\n",
      "Start to simulate... at Tue Dec  5 13:03:17 2023\n",
      "PCS:0.931, PGS:0.931\n",
      "Total time used: 3.0551552772521973s, simulation ends at Tue Dec  5 13:03:17 2023\n",
      "This problem has 4096 alternatives\n",
      "--------New experiments with  k=4096----------------------\n",
      "Start to simulate... at Tue Dec  5 13:03:21 2023\n",
      "PCS:0.954, PGS:0.954\n",
      "Total time used: 5.6319193840026855s, simulation ends at Tue Dec  5 13:03:23 2023\n",
      "This problem has 8192 alternatives\n",
      "--------New experiments with  k=8192----------------------\n",
      "Start to simulate... at Tue Dec  5 13:03:27 2023\n",
      "PCS:0.964, PGS:0.964\n",
      "Total time used: 11.619744777679443s, simulation ends at Tue Dec  5 13:03:35 2023\n",
      "This problem has 16384 alternatives\n",
      "--------New experiments with  k=16384----------------------\n",
      "Start to simulate... at Tue Dec  5 13:03:39 2023\n",
      "PCS:0.979, PGS:0.979\n",
      "Total time used: 23.60965633392334s, simulation ends at Tue Dec  5 13:03:58 2023\n",
      "This problem has 32768 alternatives\n",
      "--------New experiments with  k=32768----------------------\n",
      "Start to simulate... at Tue Dec  5 13:04:03 2023\n",
      "PCS:0.984, PGS:0.984\n",
      "Total time used: 53.93171238899231s, simulation ends at Tue Dec  5 13:04:53 2023\n",
      "This problem has 65536 alternatives\n",
      "--------New experiments with  k=65536----------------------\n",
      "Start to simulate... at Tue Dec  5 13:04:58 2023\n",
      "PCS:0.995, PGS:0.995\n",
      "Total time used: 234.68741083145142s, simulation ends at Tue Dec  5 13:08:49 2023\n"
     ]
    }
   ],
   "source": [
    "EFGPlus_results = []\n",
    "for func in [func2]:\n",
    "    for power in np.arange(min_power, max_power+1):\n",
    "        print(\"This problem has {} alternatives\".format(base**power))\n",
    "        k = base**power\n",
    "        G = min(power, n0)\n",
    "        generators =   [EMCVFuncGenerator(k, gamma, func, var) for i in range(n_replications)]\n",
    "        PCS, PGS = parallel_experiments(rng, generators, policy=EFGPlus, \n",
    "                                                     remote_policy=remote_EFGPlus, args={\"nsd\":nsd, \n",
    "                                                                                     \"n0\":n0, \n",
    "                                                                                     \"ng\":ng,\n",
    "                                                                                    \"G\":G})\n",
    "        EFGPlus_results.append(PCS)"
   ]
  },
  {
   "cell_type": "code",
   "execution_count": null,
   "id": "e3935bdc",
   "metadata": {},
   "outputs": [],
   "source": [
    "results = [EFGPlus_results, EFG_results]"
   ]
  },
  {
   "cell_type": "code",
   "execution_count": 13,
   "id": "aa0327ee",
   "metadata": {},
   "outputs": [
    {
     "data": {
      "text/plain": [
       "[[0.654,\n",
       "  0.706,\n",
       "  0.736,\n",
       "  0.781,\n",
       "  0.796,\n",
       "  0.865,\n",
       "  0.903,\n",
       "  0.916,\n",
       "  0.931,\n",
       "  0.954,\n",
       "  0.964,\n",
       "  0.979,\n",
       "  0.984,\n",
       "  0.995],\n",
       " [0.521,\n",
       "  0.585,\n",
       "  0.553,\n",
       "  0.632,\n",
       "  0.661,\n",
       "  0.678,\n",
       "  0.661,\n",
       "  0.657,\n",
       "  0.668,\n",
       "  0.663,\n",
       "  0.658,\n",
       "  0.676,\n",
       "  0.671,\n",
       "  0.678]]"
      ]
     },
     "execution_count": 13,
     "metadata": {},
     "output_type": "execute_result"
    }
   ],
   "source": [
    "results"
   ]
  },
  {
   "cell_type": "code",
   "execution_count": null,
   "id": "a4aaf609",
   "metadata": {},
   "outputs": [],
   "source": []
  }
 ],
 "metadata": {
  "kernelspec": {
   "display_name": "Python 3 (ipykernel)",
   "language": "python",
   "name": "python3"
  },
  "language_info": {
   "codemirror_mode": {
    "name": "ipython",
    "version": 3
   },
   "file_extension": ".py",
   "mimetype": "text/x-python",
   "name": "python",
   "nbconvert_exporter": "python",
   "pygments_lexer": "ipython3",
   "version": "3.9.13"
  }
 },
 "nbformat": 4,
 "nbformat_minor": 5
}
