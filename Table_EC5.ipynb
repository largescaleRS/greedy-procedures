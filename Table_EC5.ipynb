{
 "cells": [
  {
   "cell_type": "code",
   "execution_count": 1,
   "id": "0c5b9ead",
   "metadata": {},
   "outputs": [],
   "source": [
    "from utils_updated import *\n",
    "from EFGPlusPlus import *\n",
    "from TpMaxSimulator import TpMaxSimulator"
   ]
  },
  {
   "cell_type": "raw",
   "id": "21a9db64",
   "metadata": {},
   "source": [
    "The TpMaxGenerator function in utils.py is slightly changed during the review process.\n",
    "The change does not impact the main conclusions.\n",
    "To produce exactly the same results, we create a utils_updated.py.\n",
    "\n",
    "WARNING: Due to MAC OS's security check on external software, the first time you use TpMaxSimulator you need to allow external software permission in Settings - Privacy and Security."
   ]
  },
  {
   "cell_type": "raw",
   "id": "d4d47fd2",
   "metadata": {},
   "source": [
    "TpMaxSimulator is a C lib, which is used as a Python extension module. \n",
    "The Python codes are translated from a Java version (at https://github.com/biazhong/FBKT/blob/778fb1ab999de22ab85ee3d3ae1d3c9f3a1d52fc/FBKTSpark/src/main/java/problems/TpMax.java).\n",
    "\n",
    "To speed up the simulation, we use Cython to compile it into C lib. The setup.py is used for this. See https://cython.readthedocs.io/en/latest/src/quickstart/build.html (Building a Cython module using setup tools) for guidance on how to build the .pyx file into a Python extension module. \n",
    "\n",
    "The .so files are the produced modules for different Python versions on MAC OS. The .pyd, .lib, and .exp files are the produced modules on Windows. We include the files for Python 3.8 and 3.9. If your Python version is not covered, please compile the .pyx file."
   ]
  },
  {
   "cell_type": "raw",
   "id": "d161fe64",
   "metadata": {},
   "source": [
    "In the previous experiments, only the experiments are parallelized, while the procedures used are not parallelized.  This notebook, and the Table_EC1234.ipynb, tests the performance and parallel efficency of the parallel EFGPlusPlus procedure.\n",
    "\n",
    "The implementation of the EFG++ procedure utilizes the Python library multipleprocessing in a master-worker structure. \n",
    "\n",
    "Recall that the problem type parameters decide the value of k:\n",
    "(20, 20): k = 3249\n",
    "(30, 30): k = 11774\n",
    "(45, 30): k = 27434\n",
    "(45, 45): k = 41624"
   ]
  },
  {
   "cell_type": "raw",
   "id": "f8c4e995",
   "metadata": {},
   "source": [
    "WARNING: The experiments included are conducted on a lab server with more than 50 CPU cores (supporting more than 100 concurrent computing threads) and 512 GB memory.  When using multipleprocessing, a maximum of 40 threads (depending on the setting parameter q) will be used by the EFGPlusPlus procedure. Please run the experiments of this notebook in a computer with AT LEAST 20 CPU cores."
   ]
  },
  {
   "cell_type": "raw",
   "id": "954d7b21",
   "metadata": {},
   "source": [
    "The experiment results are recorded in Table EC5.\n",
    "\n",
    "The key parameters of these experiments are:\n",
    "1. the problem type parameter like (45, 45);\n",
    "2. the number of worker processors q used by the procedure;\n",
    "3. the n-processor mini-batch size z used in the greedy phase of the procedure;\n",
    "4. Is_asyn, the flag for deciding whether the greedy phase is synchronized or asynchronized. \n",
    "\n",
    "Given a set of parameters, we conduct the experiment and are concerned about the following output\n",
    "1. the utilization of each stage (computed based on each stage's (wall-clock) time and simulation time)\n",
    "\n",
    "\n",
    "To correspond the results to Table EC5, notice the format of the output like the following:\n",
    "\n",
    "##### Utilization ratios for the stages: 99.20%, 99.60%, 46.71% #####\n",
    "##### Procedure utilization: 86.63% #####\n",
    "******* PCS: 0.6, PGS: 0.94 *******\n",
    "seeding time: 33.877 ± 0.008\n",
    "exploration time: 116.496 ± 0.045\n",
    "greedy time: 48.534 ± 0.036\n",
    "simulation time in seeding: 1344.237 ± 0.195\n",
    "simulation time in exploration: 4641.232 ± 1.551\n",
    "simulation time in greedy: 906.837 ± 1.477\n",
    "total time: 198.907 ± 0.062\n",
    "total simulation time: 6892.306 ± 1.847"
   ]
  },
  {
   "cell_type": "raw",
   "id": "64ad917b",
   "metadata": {},
   "source": [
    "MUST-READ NOTICE 1: even under the same random number seed, the time outputs will NOT be exactly the same because they depend on the system being used and the system status. Consequently, the utilization outputs will NOT be the same. \n",
    "\n",
    "MUST-READ NOTICE 2: even under the same random number seed, when is_asyn=True, the estimated PCS and PGS will NOT be the same. This is because, the results depend on the ordering of the internal computing tasks; with asynchronization, the ordering depends on the system status and can not be fixed. "
   ]
  },
  {
   "cell_type": "code",
   "execution_count": 3,
   "id": "e2ee5d54",
   "metadata": {
    "scrolled": false
   },
   "outputs": [
    {
     "name": "stdout",
     "output_type": "stream",
     "text": [
      "\n",
      " problem size: 41624, problem type: (45, 45) \n",
      "\n",
      "\n",
      "Total number of alternatives - 41624\n",
      "Seeding/Exploration/Greedy budget - B=20k, B=70k, B=10k\n",
      "Number of groups for seeding - 11\n",
      "Number of processors used - 40\n",
      "Greedy batch size in each processor - 1\n",
      "Total replications to conduct - 50\n",
      "Asyn version? False\n",
      "Initializing 40 processors...\n",
      "Initializing the processors takes 36.254s\n"
     ]
    },
    {
     "name": "stderr",
     "output_type": "stream",
     "text": [
      "100%|███████████████████████████████████████████████████████████████████████████████| 50/50 [2:45:52<00:00, 199.04s/it]\n"
     ]
    },
    {
     "name": "stdout",
     "output_type": "stream",
     "text": [
      "##### Utilization ratios for the stages: 99.20%, 99.60%, 46.71% #####\n",
      "##### Procedure utilization: 86.63% #####\n",
      "******* PCS: 0.6, PGS: 0.94 *******\n",
      "seeding time: 33.877 ± 0.008\n",
      "exploration time: 116.496 ± 0.045\n",
      "greedy time: 48.534 ± 0.036\n",
      "simulation time in seeding: 1344.237 ± 0.195\n",
      "simulation time in exploration: 4641.232 ± 1.551\n",
      "simulation time in greedy: 906.837 ± 1.477\n",
      "total time: 198.907 ± 0.062\n",
      "total simulation time: 6892.306 ± 1.847\n",
      "\n",
      "Total number of alternatives - 41624\n",
      "Seeding/Exploration/Greedy budget - B=20k, B=70k, B=10k\n",
      "Number of groups for seeding - 11\n",
      "Number of processors used - 40\n",
      "Greedy batch size in each processor - 1\n",
      "Total replications to conduct - 50\n",
      "Asyn version? True\n",
      "Initializing 40 processors...\n",
      "Initializing the processors takes 35.949s\n"
     ]
    },
    {
     "name": "stderr",
     "output_type": "stream",
     "text": [
      "100%|███████████████████████████████████████████████████████████████████████████████| 50/50 [2:47:03<00:00, 200.47s/it]\n"
     ]
    },
    {
     "name": "stdout",
     "output_type": "stream",
     "text": [
      "##### Utilization ratios for the stages: 99.18%, 99.57%, 40.48% #####\n",
      "##### Procedure utilization: 84.75% #####\n",
      "******* PCS: 0.46, PGS: 0.94 *******\n",
      "seeding time: 33.860 ± 0.011\n",
      "exploration time: 116.444 ± 0.032\n",
      "greedy time: 50.033 ± 0.186\n",
      "simulation time in seeding: 1343.252 ± 0.163\n",
      "simulation time in exploration: 4637.757 ± 0.997\n",
      "simulation time in greedy: 810.137 ± 0.115\n",
      "total time: 200.337 ± 0.204\n",
      "total simulation time: 6791.146 ± 1.081\n",
      "\n",
      "Total number of alternatives - 41624\n",
      "Seeding/Exploration/Greedy budget - B=20k, B=70k, B=10k\n",
      "Number of groups for seeding - 11\n",
      "Number of processors used - 40\n",
      "Greedy batch size in each processor - 10\n",
      "Total replications to conduct - 50\n",
      "Asyn version? False\n",
      "Initializing 40 processors...\n",
      "Initializing the processors takes 36.119s\n"
     ]
    },
    {
     "name": "stderr",
     "output_type": "stream",
     "text": [
      "100%|███████████████████████████████████████████████████████████████████████████████| 50/50 [2:24:59<00:00, 173.98s/it]\n"
     ]
    },
    {
     "name": "stdout",
     "output_type": "stream",
     "text": [
      "##### Utilization ratios for the stages: 99.18%, 99.57%, 80.45% #####\n",
      "##### Procedure utilization: 96.92% #####\n",
      "******* PCS: 0.58, PGS: 0.88 *******\n",
      "seeding time: 33.903 ± 0.013\n",
      "exploration time: 116.573 ± 0.038\n",
      "greedy time: 23.370 ± 0.013\n",
      "simulation time in seeding: 1345.067 ± 0.391\n",
      "simulation time in exploration: 4642.838 ± 1.241\n",
      "simulation time in greedy: 752.033 ± 0.151\n",
      "total time: 173.847 ± 0.055\n",
      "total simulation time: 6739.938 ± 1.653\n",
      "\n",
      "Total number of alternatives - 41624\n",
      "Seeding/Exploration/Greedy budget - B=20k, B=70k, B=10k\n",
      "Number of groups for seeding - 11\n",
      "Number of processors used - 40\n",
      "Greedy batch size in each processor - 10\n",
      "Total replications to conduct - 50\n",
      "Asyn version? True\n",
      "Initializing 40 processors...\n",
      "Initializing the processors takes 35.859s\n"
     ]
    },
    {
     "name": "stderr",
     "output_type": "stream",
     "text": [
      "100%|███████████████████████████████████████████████████████████████████████████████| 50/50 [2:21:11<00:00, 169.42s/it]\n"
     ]
    },
    {
     "name": "stdout",
     "output_type": "stream",
     "text": [
      "##### Utilization ratios for the stages: 99.17%, 99.56%, 99.48% #####\n",
      "##### Procedure utilization: 99.47% #####\n",
      "******* PCS: 0.74, PGS: 0.96 *******\n",
      "seeding time: 33.908 ± 0.015\n",
      "exploration time: 116.595 ± 0.040\n",
      "greedy time: 18.790 ± 0.074\n",
      "simulation time in seeding: 1345.064 ± 0.474\n",
      "simulation time in exploration: 4643.240 ± 1.593\n",
      "simulation time in greedy: 747.671 ± 2.995\n",
      "total time: 169.293 ± 0.087\n",
      "total simulation time: 6735.975 ± 3.579\n",
      "\n",
      "Total number of alternatives - 41624\n",
      "Seeding/Exploration/Greedy budget - B=20k, B=70k, B=10k\n",
      "Number of groups for seeding - 11\n",
      "Number of processors used - 40\n",
      "Greedy batch size in each processor - 20\n",
      "Total replications to conduct - 50\n",
      "Asyn version? False\n",
      "Initializing 40 processors...\n",
      "Initializing the processors takes 36.062s\n"
     ]
    },
    {
     "name": "stderr",
     "output_type": "stream",
     "text": [
      "100%|███████████████████████████████████████████████████████████████████████████████| 50/50 [2:23:26<00:00, 172.14s/it]\n"
     ]
    },
    {
     "name": "stdout",
     "output_type": "stream",
     "text": [
      "##### Utilization ratios for the stages: 99.15%, 99.61%, 86.20% #####\n",
      "##### Procedure utilization: 97.84% #####\n",
      "******* PCS: 0.64, PGS: 0.86 *******\n",
      "seeding time: 33.916 ± 0.016\n",
      "exploration time: 116.545 ± 0.054\n",
      "greedy time: 21.543 ± 0.014\n",
      "simulation time in seeding: 1345.120 ± 0.579\n",
      "simulation time in exploration: 4643.600 ± 1.870\n",
      "simulation time in greedy: 742.806 ± 0.196\n",
      "total time: 172.004 ± 0.078\n",
      "total simulation time: 6731.526 ± 2.543\n",
      "\n",
      "Total number of alternatives - 41624\n",
      "Seeding/Exploration/Greedy budget - B=20k, B=70k, B=10k\n",
      "Number of groups for seeding - 11\n",
      "Number of processors used - 40\n",
      "Greedy batch size in each processor - 20\n",
      "Total replications to conduct - 50\n",
      "Asyn version? True\n",
      "Initializing 40 processors...\n",
      "Initializing the processors takes 36.072s\n"
     ]
    },
    {
     "name": "stderr",
     "output_type": "stream",
     "text": [
      "100%|███████████████████████████████████████████████████████████████████████████████| 50/50 [2:21:04<00:00, 169.30s/it]\n"
     ]
    },
    {
     "name": "stdout",
     "output_type": "stream",
     "text": [
      "##### Utilization ratios for the stages: 99.18%, 99.61%, 99.77% #####\n",
      "##### Procedure utilization: 99.54% #####\n",
      "******* PCS: 0.74, PGS: 0.96 *******\n",
      "seeding time: 33.937 ± 0.009\n",
      "exploration time: 116.647 ± 0.018\n",
      "greedy time: 18.581 ± 0.004\n",
      "simulation time in seeding: 1346.362 ± 0.131\n",
      "simulation time in exploration: 4647.664 ± 0.305\n",
      "simulation time in greedy: 741.555 ± 0.130\n",
      "total time: 169.165 ± 0.022\n",
      "total simulation time: 6735.582 ± 0.449\n"
     ]
    }
   ],
   "source": [
    "from TpMaxSimulator import TpMaxSimulator\n",
    "seed = 2023080303\n",
    "n_reps = 50\n",
    "batch_sizes = [1, 10, 20]\n",
    "G = 11\n",
    "core_confs = [40]\n",
    "problem_type = (45, 45)\n",
    "nsd = 20\n",
    "n0 = 70\n",
    "ng = 10\n",
    "    \n",
    "rng = np.random.default_rng(seed+problem_type[0]+problem_type[1])\n",
    "slns, means = loadTPMax(problem_type[0], problem_type[1])\n",
    "print(\"\\n problem size: {}, problem type: {} \\n\".format(len(slns), problem_type))\n",
    "_njobs, _nstages, _burnin = 1050, 3, 1000\n",
    "# with time stop Uniform(0.5ms, 1.5ms)? No verify the PCS\n",
    "generator = TpMaxGeneratorPause(_njobs, _nstages, _burnin, slns, means, TpMaxSimulator)\n",
    "k = generator.syscount()\n",
    "\n",
    "for num_cores in core_confs:\n",
    "    for batch_size in batch_sizes:\n",
    "        is_asyn = False\n",
    "        _seed = rng.integers(1, 10e8)\n",
    "        results, phasetimeset, simutimeset = EFGPlusPlus(generator, nsd, n0, ng, G, num_cores, \n",
    "                                                              batch_size, n_reps, _seed, is_asyn)\n",
    "        process_result(generator, num_cores, results, phasetimeset, simutimeset)\n",
    "        is_asyn = True\n",
    "        _seed = rng.integers(1, 10e8)\n",
    "        results, phasetimeset, simutimeset = EFGPlusPlus(generator, nsd, n0, ng, G, num_cores, \n",
    "                                                              batch_size, n_reps, _seed, is_asyn)\n",
    "        process_result(generator, num_cores, results, phasetimeset, simutimeset)"
   ]
  }
 ],
 "metadata": {
  "kernelspec": {
   "display_name": "Python 3 (ipykernel)",
   "language": "python",
   "name": "python3"
  },
  "language_info": {
   "codemirror_mode": {
    "name": "ipython",
    "version": 3
   },
   "file_extension": ".py",
   "mimetype": "text/x-python",
   "name": "python",
   "nbconvert_exporter": "python",
   "pygments_lexer": "ipython3",
   "version": "3.9.13"
  }
 },
 "nbformat": 4,
 "nbformat_minor": 5
}
