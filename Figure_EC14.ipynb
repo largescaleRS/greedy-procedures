{
 "cells": [
  {
   "cell_type": "code",
   "execution_count": 1,
   "id": "9aaa0c16",
   "metadata": {},
   "outputs": [],
   "source": [
    "import numpy as np\n",
    "import ray\n",
    "import matplotlib.pyplot as plt\n",
    "import time\n",
    "from utils import *\n",
    "from procedures import *\n",
    "plt.rcParams[\"font.sans-serif\"] = \"DejaVu Sans\"\n",
    "plt.rcParams[\"mathtext.default\"]  = \"it\"\n",
    "plt.rcParams[\"mathtext.fontset\"]  = \"dejavusans\""
   ]
  },
  {
   "cell_type": "code",
   "execution_count": 2,
   "id": "1964086e",
   "metadata": {},
   "outputs": [],
   "source": [
    "def gamma_shrink1(delta, n_alternatives):\n",
    "    return delta/(n_alternatives)\n",
    "\n",
    "\n",
    "def gamma_shrink2(delta, n_alternatives):\n",
    "    return delta/np.sqrt(n_alternatives)\n",
    "\n",
    "    \n",
    "def good_count1(k, const=0.1):\n",
    "    #k >= 3/const\n",
    "    n = np.max([const*k, 2])\n",
    "    return int(n)\n",
    "\n",
    "def good_count2(k, const=0.1):\n",
    "    #k >= 9/const^2\n",
    "    n = np.max([const*np.sqrt(k), 2])\n",
    "    return int(n)"
   ]
  },
  {
   "cell_type": "code",
   "execution_count": 3,
   "id": "4c46dcff",
   "metadata": {},
   "outputs": [],
   "source": [
    "# define problem configurations used in EC.3.6.2\n",
    "\n",
    "class ExplicitMeanGenerator(object):\n",
    "    def __init__(self, n_alternatives, delta, gamma_shrink, good_count, alternatives_var, const=0.1):\n",
    "        self.n_alternatives = n_alternatives\n",
    "        self.best_mean = delta\n",
    "        self.second_best_mean = delta - gamma_shrink(delta, n_alternatives)\n",
    "        n_goods = good_count(n_alternatives, const)\n",
    "        if n_goods >= 3:\n",
    "            good_means = np.random.uniform(0, self.second_best_mean, n_goods-2)\n",
    "        else:\n",
    "            good_means = np.array([])\n",
    "        bad_means = np.random.uniform(-1, 0, n_alternatives-n_goods)\n",
    "        _temp = np.array([self.best_mean, self.second_best_mean])\n",
    "        self.means = np.concatenate([_temp, good_means, bad_means])\n",
    "        self.best = np.argmax(self.means)\n",
    "        self.gamma = self.best_mean - self.second_best_mean\n",
    "        self.variances = np.ones(self.n_alternatives)*alternatives_var\n",
    "        self.stds = np.sqrt(self.variances)\n",
    "        \n",
    "    def get(self, index, n=1):\n",
    "        return np.random.normal(self.means[index], self.stds[index], n)\n",
    "        \n",
    "    def syscount(self):\n",
    "        return self.n_alternatives"
   ]
  },
  {
   "cell_type": "code",
   "execution_count": 4,
   "id": "79231551",
   "metadata": {},
   "outputs": [
    {
     "name": "stderr",
     "output_type": "stream",
     "text": [
      "2023-08-04 18:15:59,797\tINFO worker.py:1529 -- Started a local Ray instance. View the dashboard at \u001b[1m\u001b[32mhttp://127.0.0.1:8265 \u001b[39m\u001b[22m\n"
     ]
    },
    {
     "data": {
      "text/html": [
       "<div>\n",
       "    <div style=\"margin-left: 50px;display: flex;flex-direction: row;align-items: center\">\n",
       "        <h3 style=\"color: var(--jp-ui-font-color0)\">Ray</h3>\n",
       "        <svg version=\"1.1\" id=\"ray\" width=\"3em\" viewBox=\"0 0 144.5 144.6\" style=\"margin-left: 3em;margin-right: 3em\">\n",
       "            <g id=\"layer-1\">\n",
       "                <path fill=\"#00a2e9\" class=\"st0\" d=\"M97.3,77.2c-3.8-1.1-6.2,0.9-8.3,5.1c-3.5,6.8-9.9,9.9-17.4,9.6S58,88.1,54.8,81.2c-1.4-3-3-4-6.3-4.1\n",
       "                    c-5.6-0.1-9.9,0.1-13.1,6.4c-3.8,7.6-13.6,10.2-21.8,7.6C5.2,88.4-0.4,80.5,0,71.7c0.1-8.4,5.7-15.8,13.8-18.2\n",
       "                    c8.4-2.6,17.5,0.7,22.3,8c1.3,1.9,1.3,5.2,3.6,5.6c3.9,0.6,8,0.2,12,0.2c1.8,0,1.9-1.6,2.4-2.8c3.5-7.8,9.7-11.8,18-11.9\n",
       "                    c8.2-0.1,14.4,3.9,17.8,11.4c1.3,2.8,2.9,3.6,5.7,3.3c1-0.1,2,0.1,3,0c2.8-0.5,6.4,1.7,8.1-2.7s-2.3-5.5-4.1-7.5\n",
       "                    c-5.1-5.7-10.9-10.8-16.1-16.3C84,38,81.9,37.1,78,38.3C66.7,42,56.2,35.7,53,24.1C50.3,14,57.3,2.8,67.7,0.5\n",
       "                    C78.4-2,89,4.7,91.5,15.3c0.1,0.3,0.1,0.5,0.2,0.8c0.7,3.4,0.7,6.9-0.8,9.8c-1.7,3.2-0.8,5,1.5,7.2c6.7,6.5,13.3,13,19.8,19.7\n",
       "                    c1.8,1.8,3,2.1,5.5,1.2c9.1-3.4,17.9-0.6,23.4,7c4.8,6.9,4.6,16.1-0.4,22.9c-5.4,7.2-14.2,9.9-23.1,6.5c-2.3-0.9-3.5-0.6-5.1,1.1\n",
       "                    c-6.7,6.9-13.6,13.7-20.5,20.4c-1.8,1.8-2.5,3.2-1.4,5.9c3.5,8.7,0.3,18.6-7.7,23.6c-7.9,5-18.2,3.8-24.8-2.9\n",
       "                    c-6.4-6.4-7.4-16.2-2.5-24.3c4.9-7.8,14.5-11,23.1-7.8c3,1.1,4.7,0.5,6.9-1.7C91.7,98.4,98,92.3,104.2,86c1.6-1.6,4.1-2.7,2.6-6.2\n",
       "                    c-1.4-3.3-3.8-2.5-6.2-2.6C99.8,77.2,98.9,77.2,97.3,77.2z M72.1,29.7c5.5,0.1,9.9-4.3,10-9.8c0-0.1,0-0.2,0-0.3\n",
       "                    C81.8,14,77,9.8,71.5,10.2c-5,0.3-9,4.2-9.3,9.2c-0.2,5.5,4,10.1,9.5,10.3C71.8,29.7,72,29.7,72.1,29.7z M72.3,62.3\n",
       "                    c-5.4-0.1-9.9,4.2-10.1,9.7c0,0.2,0,0.3,0,0.5c0.2,5.4,4.5,9.7,9.9,10c5.1,0.1,9.9-4.7,10.1-9.8c0.2-5.5-4-10-9.5-10.3\n",
       "                    C72.6,62.3,72.4,62.3,72.3,62.3z M115,72.5c0.1,5.4,4.5,9.7,9.8,9.9c5.6-0.2,10-4.8,10-10.4c-0.2-5.4-4.6-9.7-10-9.7\n",
       "                    c-5.3-0.1-9.8,4.2-9.9,9.5C115,72.1,115,72.3,115,72.5z M19.5,62.3c-5.4,0.1-9.8,4.4-10,9.8c-0.1,5.1,5.2,10.4,10.2,10.3\n",
       "                    c5.6-0.2,10-4.9,9.8-10.5c-0.1-5.4-4.5-9.7-9.9-9.6C19.6,62.3,19.5,62.3,19.5,62.3z M71.8,134.6c5.9,0.2,10.3-3.9,10.4-9.6\n",
       "                    c0.5-5.5-3.6-10.4-9.1-10.8c-5.5-0.5-10.4,3.6-10.8,9.1c0,0.5,0,0.9,0,1.4c-0.2,5.3,4,9.8,9.3,10\n",
       "                    C71.6,134.6,71.7,134.6,71.8,134.6z\"/>\n",
       "            </g>\n",
       "        </svg>\n",
       "        <table>\n",
       "            <tr>\n",
       "                <td style=\"text-align: left\"><b>Python version:</b></td>\n",
       "                <td style=\"text-align: left\"><b>3.8.15</b></td>\n",
       "            </tr>\n",
       "            <tr>\n",
       "                <td style=\"text-align: left\"><b>Ray version:</b></td>\n",
       "                <td style=\"text-align: left\"><b> 2.2.0</b></td>\n",
       "            </tr>\n",
       "            <tr>\n",
       "    <td style=\"text-align: left\"><b>Dashboard:</b></td>\n",
       "    <td style=\"text-align: left\"><b><a href=\"http://127.0.0.1:8265\" target=\"_blank\">http://127.0.0.1:8265</a></b></td>\n",
       "</tr>\n",
       "\n",
       "        </table>\n",
       "    </div>\n",
       "</div>\n"
      ],
      "text/plain": [
       "RayContext(dashboard_url='127.0.0.1:8265', python_version='3.8.15', ray_version='2.2.0', ray_commit='b6af0887ee5f2e460202133791ad941a41f15beb', address_info={'node_ip_address': '127.0.0.1', 'raylet_ip_address': '127.0.0.1', 'redis_address': None, 'object_store_address': 'tcp://127.0.0.1:62921', 'raylet_socket_name': 'tcp://127.0.0.1:64368', 'webui_url': '127.0.0.1:8265', 'session_dir': 'C:\\\\Users\\\\admin\\\\AppData\\\\Local\\\\Temp\\\\3\\\\ray\\\\session_2023-08-04_18-15-57_557850_59032', 'metrics_export_port': 63994, 'gcs_address': '127.0.0.1:62838', 'address': '127.0.0.1:62838', 'dashboard_agent_listen_port': 52365, 'node_id': '7282839a6986f287fc3a2e9ff01437337a467dda20b308ef54db36c9'})"
      ]
     },
     "execution_count": 4,
     "metadata": {},
     "output_type": "execute_result"
    }
   ],
   "source": [
    "num_cpus=96\n",
    "ray.shutdown()\n",
    "ray.init(num_cpus=num_cpus, ignore_reinit_error=True)"
   ]
  },
  {
   "cell_type": "code",
   "execution_count": 5,
   "id": "68a6fece",
   "metadata": {},
   "outputs": [],
   "source": [
    "n_replications = 2000\n",
    " \n",
    "min_power = 8\n",
    "max_power = 17\n",
    "base = 2\n",
    "\n",
    "alternatives_var = 1\n",
    "\n",
    "delta = 0.05"
   ]
  },
  {
   "cell_type": "code",
   "execution_count": 6,
   "id": "b9d9a1a6",
   "metadata": {
    "scrolled": true
   },
   "outputs": [
    {
     "name": "stdout",
     "output_type": "stream",
     "text": [
      "EFG good count 1\n",
      "--------New experiments with  k=256----------------------\n",
      "Start to simulate... at Fri Aug  4 18:16:09 2023\n",
      "PCS:0.146, PGS:0.897\n",
      "Total time used: 3.2335262298583984s, simulation ends at Fri Aug  4 18:16:09 2023\n",
      "EFG good count 2\n",
      "--------New experiments with  k=256----------------------\n",
      "Start to simulate... at Fri Aug  4 18:16:13 2023\n",
      "PCS:0.18, PGS:0.857\n",
      "Total time used: 3.076211452484131s, simulation ends at Fri Aug  4 18:16:13 2023\n",
      "EFG good count 1\n",
      "--------New experiments with  k=512----------------------\n",
      "Start to simulate... at Fri Aug  4 18:16:16 2023\n",
      "PCS:0.098, PGS:0.934\n",
      "Total time used: 3.2674355506896973s, simulation ends at Fri Aug  4 18:16:16 2023\n",
      "EFG good count 2\n",
      "--------New experiments with  k=512----------------------\n",
      "Start to simulate... at Fri Aug  4 18:16:19 2023\n",
      "PCS:0.1625, PGS:0.8705\n",
      "Total time used: 3.280158281326294s, simulation ends at Fri Aug  4 18:16:19 2023\n",
      "EFG good count 1\n",
      "--------New experiments with  k=1024----------------------\n",
      "Start to simulate... at Fri Aug  4 18:16:23 2023\n",
      "PCS:0.053, PGS:0.9285\n",
      "Total time used: 3.4606540203094482s, simulation ends at Fri Aug  4 18:16:23 2023\n",
      "EFG good count 2\n",
      "--------New experiments with  k=1024----------------------\n",
      "Start to simulate... at Fri Aug  4 18:16:26 2023\n",
      "PCS:0.1435, PGS:0.9325\n",
      "Total time used: 3.484060049057007s, simulation ends at Fri Aug  4 18:16:27 2023\n",
      "EFG good count 1\n",
      "--------New experiments with  k=2048----------------------\n",
      "Start to simulate... at Fri Aug  4 18:16:31 2023\n",
      "PCS:0.0335, PGS:0.946\n",
      "Total time used: 5.720142602920532s, simulation ends at Fri Aug  4 18:16:33 2023\n",
      "EFG good count 2\n",
      "--------New experiments with  k=2048----------------------\n",
      "Start to simulate... at Fri Aug  4 18:16:36 2023\n",
      "PCS:0.141, PGS:0.9575\n",
      "Total time used: 5.720963954925537s, simulation ends at Fri Aug  4 18:16:38 2023\n",
      "EFG good count 1\n",
      "--------New experiments with  k=4096----------------------\n",
      "Start to simulate... at Fri Aug  4 18:16:43 2023\n",
      "PCS:0.0265, PGS:0.962\n",
      "Total time used: 11.500974178314209s, simulation ends at Fri Aug  4 18:16:50 2023\n",
      "EFG good count 2\n",
      "--------New experiments with  k=4096----------------------\n",
      "Start to simulate... at Fri Aug  4 18:16:54 2023\n",
      "PCS:0.1115, PGS:0.9805\n",
      "Total time used: 11.531574726104736s, simulation ends at Fri Aug  4 18:17:02 2023\n",
      "EFG good count 1\n",
      "--------New experiments with  k=8192----------------------\n",
      "Start to simulate... at Fri Aug  4 18:17:08 2023\n",
      "PCS:0.018, PGS:0.964\n",
      "Total time used: 23.90532922744751s, simulation ends at Fri Aug  4 18:17:26 2023\n",
      "EFG good count 2\n",
      "--------New experiments with  k=8192----------------------\n",
      "Start to simulate... at Fri Aug  4 18:17:32 2023\n",
      "PCS:0.108, PGS:0.9875\n",
      "Total time used: 23.875670671463013s, simulation ends at Fri Aug  4 18:17:51 2023\n",
      "EFG good count 1\n",
      "--------New experiments with  k=16384----------------------\n",
      "Start to simulate... at Fri Aug  4 18:17:57 2023\n",
      "PCS:0.009, PGS:0.96\n",
      "Total time used: 53.878556966781616s, simulation ends at Fri Aug  4 18:18:46 2023\n",
      "EFG good count 2\n",
      "--------New experiments with  k=16384----------------------\n",
      "Start to simulate... at Fri Aug  4 18:18:52 2023\n",
      "PCS:0.099, PGS:0.9965\n",
      "Total time used: 53.259711265563965s, simulation ends at Fri Aug  4 18:19:40 2023\n",
      "EFG good count 1\n",
      "--------New experiments with  k=32768----------------------\n",
      "Start to simulate... at Fri Aug  4 18:19:48 2023\n",
      "PCS:0.004, PGS:0.9645\n",
      "Total time used: 131.40716910362244s, simulation ends at Fri Aug  4 18:21:53 2023\n",
      "EFG good count 2\n",
      "--------New experiments with  k=32768----------------------\n",
      "Start to simulate... at Fri Aug  4 18:22:00 2023\n",
      "PCS:0.0725, PGS:0.998\n",
      "Total time used: 131.09969520568848s, simulation ends at Fri Aug  4 18:24:06 2023\n",
      "EFG good count 1\n",
      "--------New experiments with  k=65536----------------------\n",
      "Start to simulate... at Fri Aug  4 18:24:16 2023\n",
      "PCS:0.0035, PGS:0.962\n",
      "Total time used: 409.6678457260132s, simulation ends at Fri Aug  4 18:30:59 2023\n",
      "EFG good count 2\n",
      "--------New experiments with  k=65536----------------------\n",
      "Start to simulate... at Fri Aug  4 18:31:08 2023\n",
      "PCS:0.059, PGS:0.9985\n",
      "Total time used: 406.6343276500702s, simulation ends at Fri Aug  4 18:37:49 2023\n",
      "EFG good count 1\n",
      "--------New experiments with  k=131072----------------------\n",
      "Start to simulate... at Fri Aug  4 18:38:03 2023\n",
      "PCS:0.004, PGS:0.9645\n",
      "Total time used: 2028.392611026764s, simulation ends at Fri Aug  4 19:11:42 2023\n",
      "EFG good count 2\n",
      "--------New experiments with  k=131072----------------------\n",
      "Start to simulate... at Fri Aug  4 19:11:56 2023\n",
      "PCS:0.051, PGS:1.0\n",
      "Total time used: 2044.8453640937805s, simulation ends at Fri Aug  4 19:45:53 2023\n"
     ]
    }
   ],
   "source": [
    "seed = 2023080405\n",
    "np.random.seed(seed)\n",
    "rng = np.random.default_rng(seed)\n",
    "\n",
    "EFG1_results = []\n",
    "EFG2_results = []\n",
    "\n",
    "n = 100\n",
    "greedy_ratio = 0.1\n",
    "\n",
    "const1 = 0.05\n",
    "const3 = 0.5\n",
    "\n",
    "for power in np.arange(min_power, max_power+1):\n",
    "        generators = [ExplicitMeanGenerator(2**power, delta, gamma_shrink1, \n",
    "                                            good_count1, alternatives_var, const1) for i in range(n_replications)]\n",
    "\n",
    "\n",
    "        ng = int(greedy_ratio*n)\n",
    "        n0 = n-ng\n",
    "\n",
    "        print(\"EFG good count 1\")\n",
    "        PCS, PGS = parallel_experiments(rng,  generators, policy=EFG, delta=delta, remote_policy=remote_EFG, \n",
    "                                        args={\"n0\":n0, \"ng\":ng})\n",
    "        EFG1_results.append([PCS,PGS])\n",
    "\n",
    "        generators = [ExplicitMeanGenerator(2**power, delta, gamma_shrink1, \n",
    "                                            good_count2, alternatives_var, const3) for i in range(n_replications)]\n",
    "\n",
    "\n",
    "        print(\"EFG good count 2\")\n",
    "        PCS, PGS = parallel_experiments(rng,  generators, policy=EFG, delta=delta, remote_policy=remote_EFG, \n",
    "                                        args={\"n0\":n0, \"ng\":ng})\n",
    "        EFG2_results.append([PCS,PGS])"
   ]
  },
  {
   "cell_type": "code",
   "execution_count": null,
   "id": "1566cc00",
   "metadata": {},
   "outputs": [],
   "source": [
    "EFG1_results"
   ]
  },
  {
   "cell_type": "code",
   "execution_count": null,
   "id": "9e0a199d",
   "metadata": {},
   "outputs": [],
   "source": [
    "EFG2_results"
   ]
  },
  {
   "cell_type": "code",
   "execution_count": null,
   "id": "5bfc4382",
   "metadata": {},
   "outputs": [],
   "source": []
  },
  {
   "cell_type": "code",
   "execution_count": 19,
   "id": "ff6c98e5",
   "metadata": {},
   "outputs": [],
   "source": [
    "# results drawn from the above experiments for producing the Figure EC14\n",
    "\n",
    "# EFG1_results = [[0.146, 0.897],\n",
    "#  [0.098, 0.934],\n",
    "#  [0.053, 0.9285],\n",
    "#  [0.0335, 0.946],\n",
    "#  [0.0265, 0.962],\n",
    "#  [0.018, 0.964],\n",
    "#  [0.009, 0.96],\n",
    "#  [0.004, 0.9645],\n",
    "#  [0.0035, 0.962],\n",
    "#  [0.004, 0.9645]]\n",
    "\n",
    "# EFG2_results = [[0.18, 0.857],\n",
    "#  [0.1625, 0.8705],\n",
    "#  [0.1435, 0.9325],\n",
    "#  [0.141, 0.9575],\n",
    "#  [0.1115, 0.9805],\n",
    "#  [0.108, 0.9875],\n",
    "#  [0.099, 0.9965],\n",
    "#  [0.0725, 0.998],\n",
    "#  [0.059, 0.9985],\n",
    "#  [0.051, 1.0]]"
   ]
  },
  {
   "cell_type": "code",
   "execution_count": 20,
   "id": "eb404440",
   "metadata": {},
   "outputs": [
    {
     "data": {
      "text/plain": [
       "(array([[0.146 , 0.098 , 0.053 , 0.0335, 0.0265, 0.018 , 0.009 , 0.004 ,\n",
       "         0.0035, 0.004 ],\n",
       "        [0.897 , 0.934 , 0.9285, 0.946 , 0.962 , 0.964 , 0.96  , 0.9645,\n",
       "         0.962 , 0.9645]]),\n",
       " array([[0.18  , 0.1625, 0.1435, 0.141 , 0.1115, 0.108 , 0.099 , 0.0725,\n",
       "         0.059 , 0.051 ],\n",
       "        [0.857 , 0.8705, 0.9325, 0.9575, 0.9805, 0.9875, 0.9965, 0.998 ,\n",
       "         0.9985, 1.    ]]))"
      ]
     },
     "execution_count": 20,
     "metadata": {},
     "output_type": "execute_result"
    }
   ],
   "source": [
    "np.array(EFG1_results).T, np.array(EFG2_results).T"
   ]
  },
  {
   "cell_type": "code",
   "execution_count": 21,
   "id": "de64da0c",
   "metadata": {},
   "outputs": [],
   "source": [
    "results_list = [\n",
    "    np.array(EFG1_results).T[1], np.array(EFG2_results).T[1]]"
   ]
  },
  {
   "cell_type": "code",
   "execution_count": 22,
   "id": "d2e2e90a",
   "metadata": {},
   "outputs": [
    {
     "data": {
      "text/plain": [
       "[array([0.897 , 0.934 , 0.9285, 0.946 , 0.962 , 0.964 , 0.96  , 0.9645,\n",
       "        0.962 , 0.9645]),\n",
       " array([0.857 , 0.8705, 0.9325, 0.9575, 0.9805, 0.9875, 0.9965, 0.998 ,\n",
       "        0.9985, 1.    ])]"
      ]
     },
     "execution_count": 22,
     "metadata": {},
     "output_type": "execute_result"
    }
   ],
   "source": [
    "results_list"
   ]
  },
  {
   "cell_type": "code",
   "execution_count": 23,
   "id": "0f02b6bb",
   "metadata": {},
   "outputs": [
    {
     "name": "stdout",
     "output_type": "stream",
     "text": [
      "[array([0.897 , 0.934 , 0.9285, 0.946 , 0.962 , 0.964 , 0.96  , 0.9645,\n",
      "       0.962 , 0.9645]), array([0.857 , 0.8705, 0.9325, 0.9575, 0.9805, 0.9875, 0.9965, 0.998 ,\n",
      "       0.9985, 1.    ])]\n"
     ]
    },
    {
     "data": {
      "image/png": "[encoded data removed]",
      "text/plain": [
       "<Figure size 650x500 with 1 Axes>"
      ]
     },
     "metadata": {},
     "output_type": "display_data"
    }
   ],
   "source": [
    "fontsize= 14\n",
    "powers = np.arange(min_power, max_power+1)\n",
    "colors = [\"m\",\"c\", \"k\", \"b\", \"r\"]\n",
    "markers = [\"p\", \"d\", \"o\"]\n",
    "line_styles = [\"--\", \"-.\", \":\",\"--\", \"-.\", \"--\", '-.']\n",
    "\n",
    "titles = [\"$\\gamma(k)=\\\\frac{0.05}{k}$\"]\n",
    "fig = plt.figure(figsize=(6.5, 5))\n",
    "\n",
    "gap = 0.10\n",
    "\n",
    "fig_plots = [(1,1,1)]\n",
    "\n",
    "labels = [\"$g(k) =  \\\\left\\\\lceil 0.05k \\\\right\\\\rceil$\", \n",
    "          \"$g(k) =  \\\\left\\\\lceil 0.5 \\sqrt{k} \\\\right\\\\rceil$\"]\n",
    "\n",
    "\n",
    "for i, fig_plot in enumerate(fig_plots):\n",
    "    \n",
    "    ax = fig.add_subplot(*fig_plots[i])\n",
    "    \n",
    "    results = results_list\n",
    "    print(results)\n",
    "\n",
    "    for j, result in enumerate(results):\n",
    "        plt.plot(powers, result, line_styles[j], markersize=10, color=colors[j], marker=markers[j], label=labels[j])\n",
    "    \n",
    "    \n",
    "    plt.xlim(min_power, max_power)\n",
    "    xticks = powers\n",
    "    xticklabels = [\"2^{\"+str(power)+\"}\" for power in xticks]\n",
    "    xticklabels = [\"$\"+power_label+\"$\" for power_label in xticklabels]\n",
    "    plt.xticks(xticks, xticklabels, fontsize=fontsize-1)\n",
    "    \n",
    "    if i == 0:\n",
    "        ax.legend(prop={'family': 'serif',\"size\":fontsize}, loc=\"lower right\")\n",
    "        plt.ylim(0.8, 1.0)\n",
    "        yticks = np.arange(0.8, 1.05, 0.05)\n",
    "        yticklabels = [\"%.0f\"%(tick*100)+\"%\" for tick in yticks]\n",
    "        plt.yticks(yticks, yticklabels, fontsize=fontsize-1) \n",
    "\n",
    "    \n",
    "    ax.set_xlabel(\"Number of alternatives $k$\", size=fontsize)\n",
    "    if i == 0 or i == 2:\n",
    "        ax.set_ylabel(\"Estimated PGS\", size=fontsize)\n",
    "    if i == 1:\n",
    "        ax.set_ylabel(\"Estimated PGS\", size=fontsize, labelpad=0)\n",
    "#     plt.title(titles[i], fontsize=fontsize)\n",
    "    plt.grid(0.1)\n",
    "\n",
    "fig.subplots_adjust(left=None, bottom=None, right=None, top=None,\n",
    "                wspace=0.25, hspace=None)\n",
    "\n",
    "plt.show()\n",
    "\n",
    "fig.savefig(\"Figure_EC14.pdf\", bbox_inches='tight')"
   ]
  },
  {
   "cell_type": "code",
   "execution_count": null,
   "id": "9ba1efd0",
   "metadata": {},
   "outputs": [],
   "source": []
  },
  {
   "cell_type": "code",
   "execution_count": null,
   "id": "6155de85",
   "metadata": {},
   "outputs": [],
   "source": []
  }
 ],
 "metadata": {
  "kernelspec": {
   "display_name": "Python 3 (ipykernel)",
   "language": "python",
   "name": "python3"
  },
  "language_info": {
   "codemirror_mode": {
    "name": "ipython",
    "version": 3
   },
   "file_extension": ".py",
   "mimetype": "text/x-python",
   "name": "python",
   "nbconvert_exporter": "python",
   "pygments_lexer": "ipython3",
   "version": "3.9.13"
  }
 },
 "nbformat": 4,
 "nbformat_minor": 5
}
